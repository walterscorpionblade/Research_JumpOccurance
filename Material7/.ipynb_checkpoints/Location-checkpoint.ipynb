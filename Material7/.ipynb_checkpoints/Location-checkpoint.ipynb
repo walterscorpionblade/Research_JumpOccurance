{
 "cells": [
  {
   "cell_type": "code",
   "execution_count": 33,
   "metadata": {},
   "outputs": [],
   "source": [
    "from datetime import datetime, timedelta\n",
    "import os\n",
    "from time_utils.gpst import dt2gpst, gpst2dt, gpst_week_number, gpst_week_day\n",
    "\n",
    "import subprocess\n",
    "\n",
    "from ftplib import FTP\n",
    "from os.path import basename, dirname, join, exists\n",
    "from os import makedirs\n",
    "\n",
    "import matplotlib.pyplot as plt\n",
    "\n",
    "import numpy\n",
    "import pandas as pd\n",
    "from numpy import diff\n",
    "from pandas import DataFrame"
   ]
  },
  {
   "cell_type": "code",
   "execution_count": 34,
   "metadata": {},
   "outputs": [],
   "source": [
    "from RINEX2Helper import format_filepath, ftp_download, fix_bad_zip_file, decompress\n",
    "from rinex2 import parse_RINEX2_obs_file\n",
    "from rinex_nav import parse_rinex_nav_file\n",
    "from gps_orbit import compute_gps_orbital_parameters_from_ephemeris, compute_ecef_position_from_orbital_parameters\n",
    "from gps_orbit import compute_gps_orbital_parameters_from_ephemeris, compute_ecef_position_from_orbital_parameters\n",
    "from coordinate_conversion import ecef2sky"
   ]
  },
  {
   "cell_type": "code",
   "execution_count": 35,
   "metadata": {},
   "outputs": [],
   "source": [
    "def download_and_decompress(station_id, dt, overwrite=False):\n",
    "    ftp_host = 'cddis.gsfc.nasa.gov'\n",
    "    filepath_template = 'pub/gps/data/daily/{yyyy}/{ddd}/{yy}o/{station_id}{ddd}0.{yy}o.Z'\n",
    "    rinex_dir = '/Users/liuzijun 1/Projects/gnss-research/data/rinex/'\n",
    "    url_filepath = format_filepath(filepath_template, dt, params={'station_id': station_id})\n",
    "    filepath = os.path.join(rinex_dir, url_filepath)\n",
    "    if not os.path.exists(os.path.dirname(filepath)):\n",
    "        os.makedirs(os.path.dirname(filepath))\n",
    "    if overwrite or (not os.path.exists(filepath) and not os.path.exists(filepath[:-2])):\n",
    "        success = ftp_download(ftp_host, url_filepath, filepath)\n",
    "    if overwrite or (os.path.exists(filepath) and not os.path.exists(filepath[:-2])):\n",
    "        subprocess.call('uncompress -f ' + filepath.replace(' ', '\\ '), shell=True)\n",
    "    filepath = filepath[:-2]\n",
    "    return filepath "
   ]
  },
  {
   "cell_type": "code",
   "execution_count": 36,
   "metadata": {},
   "outputs": [],
   "source": [
    "from scipy.constants import c\n",
    "kappa_u = 40.308e16\n",
    "fL1 = 1.57542e9\n",
    "fL2 = 1.2276e9"
   ]
  },
  {
   "cell_type": "code",
   "execution_count": 37,
   "metadata": {},
   "outputs": [],
   "source": [
    "def download_and_decompress_nav(dt, overwrite=False):\n",
    "    ftp_host = 'cddis.gsfc.nasa.gov'\n",
    "    filepath_template = 'pub/gps/data/daily/{yyyy}/{ddd}/{yy}n/brdc{ddd}0.{yy}n.Z'\n",
    "    rinex_dir = '/Users/liuzijun 1/Projects/gnss-research/data/rinex/'\n",
    "    url_filepath = format_filepath(filepath_template, dt)\n",
    "    filepath = os.path.join(rinex_dir, url_filepath)\n",
    "    if not os.path.exists(os.path.dirname(filepath)):\n",
    "        os.makedirs(os.path.dirname(filepath))\n",
    "    if overwrite or (not os.path.exists(filepath) and not os.path.exists(filepath[:-2])):\n",
    "        success = ftp_download(ftp_host, url_filepath, filepath)\n",
    "    if overwrite or (os.path.exists(filepath) and not os.path.exists(filepath[:-2])):\n",
    "        subprocess.call('uncompress -f ' + filepath.replace(' ', '\\ '), shell=True)\n",
    "    filepath = filepath[:-2]\n",
    "    return filepath "
   ]
  },
  {
   "cell_type": "code",
   "execution_count": 38,
   "metadata": {},
   "outputs": [],
   "source": [
    "def process_day(dt, station_id, data):\n",
    "    nav_filepath = download_and_decompress_nav(dt)\n",
    "    headers, nav_data = parse_rinex_nav_file(nav_filepath)\n",
    "    filepath = download_and_decompress(station_id, dt)\n",
    "    header, observations = parse_RINEX2_obs_file(filepath)\n",
    "    satellites = observations['satellites']\n",
    "    time = observations['time']\n",
    "    sat_ids = sorted(filter(lambda sat_id: sat_id[0] == 'G', satellites.keys()))\n",
    "    print('', end='')\n",
    "    for sat_id in sat_ids:\n",
    "        print('\\r' + sat_id, end='')\n",
    "        \n",
    "        header, observations = parse_RINEX2_obs_file(filepath)\n",
    "        sat = observations['satellites'][sat_id]\n",
    "        time = observations['time'][sat['index']]\n",
    "        rx_ecf = list(map(float, header['approximate_position_xyz'].split()))\n",
    "        \n",
    "        sat_prn = int(sat_id[1:])\n",
    "        orbit_params = compute_gps_orbital_parameters_from_ephemeris(nav_data[sat_prn][0], time)\n",
    "        sat_ecf = compute_ecef_position_from_orbital_parameters(orbit_params)\n",
    "        sat_sky = ecef2sky(rx_ecf, sat_ecf)\n",
    "        \n",
    "        P1 = sat['L1']['pseudorange']\n",
    "        P2 = sat['L2']['pseudorange']\n",
    "        TEC = (P1 - P2) / (kappa_u * (1 / fL1**2 - 1 / fL2**2))\n",
    "\n",
    "        L1 = sat['L1']['carrier'] * c / fL1\n",
    "        L2 = sat['L2']['carrier'] * c / fL2\n",
    "        TEC_rel = -(L1 - L2) / (kappa_u * (1 / fL1**2 - 1 / fL2**2))\n",
    "    \n",
    "        TEC_diff = diff(TEC_rel)\n",
    "        threshold = 0.7\n",
    "        jump_indices = numpy.where(abs(TEC_diff) > threshold)[0]\n",
    "        \n",
    "        date_str = '{0:04}{1:02}{2:02}'.format(dt.year, dt.month, dt.day)\n",
    "        \n",
    "        for jump_index in jump_indices:\n",
    "            data['Date_str'].append(date_str)\n",
    "            data['Satellite_id'].append(sat_id)\n",
    "            data['Station_id'].append(station_id)\n",
    "            data['Azimuth'].append(sat_sky[jump_index, 0])\n",
    "            data['Elevation'].append(sat_sky[jump_index, 1])\n",
    "            \n",
    "    return filepath"
   ]
  },
  {
   "cell_type": "code",
   "execution_count": 39,
   "metadata": {},
   "outputs": [
    {
     "name": "stdout",
     "output_type": "stream",
     "text": [
      "2017-01-01 00:00:00\n",
      "G01"
     ]
    },
    {
     "name": "stderr",
     "output_type": "stream",
     "text": [
      "/anaconda3/lib/python3.7/site-packages/ipykernel_launcher.py:33: RuntimeWarning: invalid value encountered in greater\n"
     ]
    },
    {
     "name": "stdout",
     "output_type": "stream",
     "text": [
      "G29"
     ]
    },
    {
     "ename": "KeyboardInterrupt",
     "evalue": "",
     "output_type": "error",
     "traceback": [
      "\u001b[0;31m---------------------------------------------------------------------------\u001b[0m",
      "\u001b[0;31mKeyboardInterrupt\u001b[0m                         Traceback (most recent call last)",
      "\u001b[0;32m<ipython-input-39-6d8fe565efbf>\u001b[0m in \u001b[0;36m<module>\u001b[0;34m\u001b[0m\n\u001b[1;32m     17\u001b[0m     \u001b[0mprint\u001b[0m\u001b[0;34m(\u001b[0m\u001b[0mdt\u001b[0m\u001b[0;34m)\u001b[0m\u001b[0;34m\u001b[0m\u001b[0;34m\u001b[0m\u001b[0m\n\u001b[1;32m     18\u001b[0m     \u001b[0;32mtry\u001b[0m\u001b[0;34m:\u001b[0m\u001b[0;34m\u001b[0m\u001b[0;34m\u001b[0m\u001b[0m\n\u001b[0;32m---> 19\u001b[0;31m         \u001b[0mprocess_day\u001b[0m\u001b[0;34m(\u001b[0m\u001b[0mdt\u001b[0m\u001b[0;34m,\u001b[0m \u001b[0mstation_id\u001b[0m\u001b[0;34m,\u001b[0m \u001b[0mdata\u001b[0m\u001b[0;34m)\u001b[0m\u001b[0;34m\u001b[0m\u001b[0;34m\u001b[0m\u001b[0m\n\u001b[0m\u001b[1;32m     20\u001b[0m     \u001b[0;32mexcept\u001b[0m \u001b[0mException\u001b[0m \u001b[0;32mas\u001b[0m \u001b[0me\u001b[0m\u001b[0;34m:\u001b[0m\u001b[0;34m\u001b[0m\u001b[0;34m\u001b[0m\u001b[0m\n\u001b[1;32m     21\u001b[0m         \u001b[0mprint\u001b[0m\u001b[0;34m(\u001b[0m\u001b[0me\u001b[0m\u001b[0;34m)\u001b[0m\u001b[0;34m\u001b[0m\u001b[0;34m\u001b[0m\u001b[0m\n",
      "\u001b[0;32m<ipython-input-38-6889faea56e5>\u001b[0m in \u001b[0;36mprocess_day\u001b[0;34m(dt, station_id, data)\u001b[0m\n\u001b[1;32m     11\u001b[0m         \u001b[0mprint\u001b[0m\u001b[0;34m(\u001b[0m\u001b[0;34m'\\r'\u001b[0m \u001b[0;34m+\u001b[0m \u001b[0msat_id\u001b[0m\u001b[0;34m,\u001b[0m \u001b[0mend\u001b[0m\u001b[0;34m=\u001b[0m\u001b[0;34m''\u001b[0m\u001b[0;34m)\u001b[0m\u001b[0;34m\u001b[0m\u001b[0;34m\u001b[0m\u001b[0m\n\u001b[1;32m     12\u001b[0m \u001b[0;34m\u001b[0m\u001b[0m\n\u001b[0;32m---> 13\u001b[0;31m         \u001b[0mheader\u001b[0m\u001b[0;34m,\u001b[0m \u001b[0mobservations\u001b[0m \u001b[0;34m=\u001b[0m \u001b[0mparse_RINEX2_obs_file\u001b[0m\u001b[0;34m(\u001b[0m\u001b[0mfilepath\u001b[0m\u001b[0;34m)\u001b[0m\u001b[0;34m\u001b[0m\u001b[0;34m\u001b[0m\u001b[0m\n\u001b[0m\u001b[1;32m     14\u001b[0m         \u001b[0msat\u001b[0m \u001b[0;34m=\u001b[0m \u001b[0mobservations\u001b[0m\u001b[0;34m[\u001b[0m\u001b[0;34m'satellites'\u001b[0m\u001b[0;34m]\u001b[0m\u001b[0;34m[\u001b[0m\u001b[0msat_id\u001b[0m\u001b[0;34m]\u001b[0m\u001b[0;34m\u001b[0m\u001b[0;34m\u001b[0m\u001b[0m\n\u001b[1;32m     15\u001b[0m         \u001b[0mtime\u001b[0m \u001b[0;34m=\u001b[0m \u001b[0mobservations\u001b[0m\u001b[0;34m[\u001b[0m\u001b[0;34m'time'\u001b[0m\u001b[0;34m]\u001b[0m\u001b[0;34m[\u001b[0m\u001b[0msat\u001b[0m\u001b[0;34m[\u001b[0m\u001b[0;34m'index'\u001b[0m\u001b[0;34m]\u001b[0m\u001b[0;34m]\u001b[0m\u001b[0;34m\u001b[0m\u001b[0;34m\u001b[0m\u001b[0m\n",
      "\u001b[0;32m~/Desktop/COEN1550/Material7/rinex2.py\u001b[0m in \u001b[0;36mparse_RINEX2_obs_file\u001b[0;34m(filepath)\u001b[0m\n\u001b[1;32m    325\u001b[0m         \u001b[0;32mraise\u001b[0m \u001b[0mException\u001b[0m\u001b[0;34m(\u001b[0m\u001b[0;34m'RINEX header must contain `# / TYPES OF OBS.` and `header` dict from `parse_parse_RINEX2_header` must contain corresponding list `obs_types`'\u001b[0m\u001b[0;34m)\u001b[0m\u001b[0;34m\u001b[0m\u001b[0;34m\u001b[0m\u001b[0m\n\u001b[1;32m    326\u001b[0m     \u001b[0mobs_data\u001b[0m\u001b[0;34m,\u001b[0m \u001b[0mtime\u001b[0m \u001b[0;34m=\u001b[0m \u001b[0mparse_RINEX2_obs_data\u001b[0m\u001b[0;34m(\u001b[0m\u001b[0mobs_lines\u001b[0m\u001b[0;34m,\u001b[0m \u001b[0mheader\u001b[0m\u001b[0;34m[\u001b[0m\u001b[0;34m'obs_types'\u001b[0m\u001b[0;34m]\u001b[0m\u001b[0;34m)\u001b[0m\u001b[0;34m\u001b[0m\u001b[0;34m\u001b[0m\u001b[0m\n\u001b[0;32m--> 327\u001b[0;31m     \u001b[0mobs_data\u001b[0m \u001b[0;34m=\u001b[0m \u001b[0mtransform_values_from_RINEX2_obs\u001b[0m\u001b[0;34m(\u001b[0m\u001b[0mobs_data\u001b[0m\u001b[0;34m)\u001b[0m\u001b[0;34m\u001b[0m\u001b[0;34m\u001b[0m\u001b[0m\n\u001b[0m\u001b[1;32m    328\u001b[0m     \u001b[0mgps_epoch\u001b[0m \u001b[0;34m=\u001b[0m \u001b[0mdatetime64\u001b[0m\u001b[0;34m(\u001b[0m\u001b[0mdatetime\u001b[0m\u001b[0;34m(\u001b[0m\u001b[0;36m1980\u001b[0m\u001b[0;34m,\u001b[0m \u001b[0;36m1\u001b[0m\u001b[0;34m,\u001b[0m \u001b[0;36m6\u001b[0m\u001b[0;34m)\u001b[0m\u001b[0;34m)\u001b[0m\u001b[0;34m\u001b[0m\u001b[0;34m\u001b[0m\u001b[0m\n\u001b[1;32m    329\u001b[0m     \u001b[0mtime\u001b[0m \u001b[0;34m=\u001b[0m \u001b[0;34m(\u001b[0m\u001b[0marray\u001b[0m\u001b[0;34m(\u001b[0m\u001b[0mtime\u001b[0m\u001b[0;34m)\u001b[0m \u001b[0;34m-\u001b[0m \u001b[0mgps_epoch\u001b[0m\u001b[0;34m)\u001b[0m\u001b[0;34m.\u001b[0m\u001b[0mastype\u001b[0m\u001b[0;34m(\u001b[0m\u001b[0mfloat\u001b[0m\u001b[0;34m)\u001b[0m \u001b[0;34m/\u001b[0m \u001b[0;36m1e6\u001b[0m  \u001b[0;31m# dt64 is in microseconds\u001b[0m\u001b[0;34m\u001b[0m\u001b[0;34m\u001b[0m\u001b[0m\n",
      "\u001b[0;32m~/Desktop/COEN1550/Material7/rinex2.py\u001b[0m in \u001b[0;36mtransform_values_from_RINEX2_obs\u001b[0;34m(rinex_data)\u001b[0m\n\u001b[1;32m    280\u001b[0m                 \u001b[0mdata\u001b[0m\u001b[0;34m[\u001b[0m\u001b[0msat_id\u001b[0m\u001b[0;34m]\u001b[0m\u001b[0;34m[\u001b[0m\u001b[0msig_id\u001b[0m\u001b[0;34m]\u001b[0m\u001b[0;34m[\u001b[0m\u001b[0mobs_name\u001b[0m\u001b[0;34m]\u001b[0m \u001b[0;34m=\u001b[0m \u001b[0marray\u001b[0m\u001b[0;34m(\u001b[0m\u001b[0mrnx_sat\u001b[0m\u001b[0;34m[\u001b[0m\u001b[0mobs_id\u001b[0m\u001b[0;34m]\u001b[0m\u001b[0;34m)\u001b[0m\u001b[0;34m\u001b[0m\u001b[0;34m\u001b[0m\u001b[0m\n\u001b[1;32m    281\u001b[0m         \u001b[0;32mif\u001b[0m \u001b[0;34m'index'\u001b[0m \u001b[0;32min\u001b[0m \u001b[0mrnx_sat\u001b[0m\u001b[0;34m.\u001b[0m\u001b[0mkeys\u001b[0m\u001b[0;34m(\u001b[0m\u001b[0;34m)\u001b[0m\u001b[0;34m:\u001b[0m\u001b[0;34m\u001b[0m\u001b[0;34m\u001b[0m\u001b[0m\n\u001b[0;32m--> 282\u001b[0;31m              \u001b[0mdata\u001b[0m\u001b[0;34m[\u001b[0m\u001b[0msat_id\u001b[0m\u001b[0;34m]\u001b[0m\u001b[0;34m[\u001b[0m\u001b[0;34m'index'\u001b[0m\u001b[0;34m]\u001b[0m \u001b[0;34m=\u001b[0m \u001b[0marray\u001b[0m\u001b[0;34m(\u001b[0m\u001b[0mrnx_sat\u001b[0m\u001b[0;34m[\u001b[0m\u001b[0;34m'index'\u001b[0m\u001b[0;34m]\u001b[0m\u001b[0;34m,\u001b[0m \u001b[0mdtype\u001b[0m\u001b[0;34m=\u001b[0m\u001b[0mint\u001b[0m\u001b[0;34m)\u001b[0m\u001b[0;34m\u001b[0m\u001b[0;34m\u001b[0m\u001b[0m\n\u001b[0m\u001b[1;32m    283\u001b[0m     \u001b[0;32mreturn\u001b[0m \u001b[0mdata\u001b[0m\u001b[0;34m\u001b[0m\u001b[0;34m\u001b[0m\u001b[0m\n\u001b[1;32m    284\u001b[0m \u001b[0;34m\u001b[0m\u001b[0m\n",
      "\u001b[0;31mKeyboardInterrupt\u001b[0m: "
     ]
    }
   ],
   "source": [
    "data = {\n",
    "    'Date_str': [],\n",
    "    'Station_id': [],\n",
    "    'Satellite_id': [],\n",
    "    'Azimuth': [],\n",
    "    'Elevation': []\n",
    "}\n",
    "station_id = 'yell'\n",
    "year = 2017\n",
    "dt_start = datetime(year, 1, 1)\n",
    "filepaths = []\n",
    "\n",
    "for day in range(365):\n",
    "    \n",
    "    \n",
    "    dt = dt_start + timedelta(days=day)\n",
    "    print(dt)\n",
    "    try:\n",
    "        process_day(dt, station_id, data)\n",
    "    except Exception as e:\n",
    "        print(e)\n",
    "    print('')\n",
    "    \n",
    "    # delete extra files\n",
    "    if day % 30 == 0:\n",
    "        try:\n",
    "            for filepath in filepaths:\n",
    "                os.remove(filepath)\n",
    "        except Exception as e:\n",
    "            pass\n",
    "        filepaths = []"
   ]
  },
  {
   "cell_type": "code",
   "execution_count": 28,
   "metadata": {},
   "outputs": [],
   "source": [
    "df = DataFrame(data)\n",
    "with open('Table_{station_id}_2017_all.csv'.format(station_id=station_id), 'a') as f:\n",
    "    df.to_csv(f, index = None, header = True)"
   ]
  },
  {
   "cell_type": "code",
   "execution_count": 17,
   "metadata": {},
   "outputs": [],
   "source": [
    "# dfNew = pd.read_csv(\"Table_nist_2017_all.csv\")\n",
    "# SatID = [\"G01\", \"G02\", \"G03\", \"G04\", \"G05\", \"G06\", \"G07\", \"G08\", \"G09\", \"G10\", \"G11\", \"G12\", \"G13\", \"G14\", \"G15\", \"G16\", \"G17\", \"G18\", \"G19\", \"G20\", \"G21\", \"G22\", \"G23\", \"G24\", \"G25\", \"G26\", \"G27\", \"G28\", \"G29\", \"G30\", \"G31\", \"G32\"]\n",
    "# for i in SatID:\n",
    "#     dfSID = 'df_{}'.format(i)\n",
    "#     dfSID = dfNew.loc[dfNew[\"Satellite_id\"] == i]\n",
    "#     dfSID.to_csv('Table_Azimuth_Elevation_{0}.csv'.format(i), index = None, header = True)"
   ]
  },
  {
   "cell_type": "code",
   "execution_count": 29,
   "metadata": {},
   "outputs": [],
   "source": [
    "# data = {\n",
    "#     'Date_str': [],\n",
    "#     'Station_id': [],\n",
    "#     'Satellite_id': [],\n",
    "#     'Azimuth': [],\n",
    "#     'Elevation': []\n",
    "# }\n",
    "# station_id = 'yell'\n",
    "\n",
    "# for day in range(1, 32):\n",
    "#     dt = datetime(2017, 1, day)\n",
    "#     print(dt)\n",
    "#     nav_filepath = download_and_decompress_nav(dt)\n",
    "#     headers, nav_data = parse_rinex_nav_file(nav_filepath)\n",
    "#     filepath = download_and_decompress(station_id, dt)\n",
    "#     header, observations = parse_RINEX2_obs_file(filepath)\n",
    "#     satellites = observations['satellites']\n",
    "#     time = observations['time']\n",
    "#     sat_ids = sorted(filter(lambda sat_id: sat_id[0] == 'G', satellites.keys()))\n",
    "#     print('', end='')\n",
    "#     for sat_id in sat_ids:\n",
    "#         print('\\r' + sat_id, end='')\n",
    "        \n",
    "#         header, observations = parse_RINEX2_obs_file(filepath)\n",
    "#         sat = observations['satellites'][sat_id]\n",
    "#         time = observations['time'][sat['index']]\n",
    "#         rx_ecf = list(map(float, header['approximate_position_xyz'].split()))\n",
    "        \n",
    "#         sat_prn = int(sat_id[1:])\n",
    "#         orbit_params = compute_gps_orbital_parameters_from_ephemeris(nav_data[sat_prn][0], time)\n",
    "#         sat_ecf = compute_ecef_position_from_orbital_parameters(orbit_params)\n",
    "#         sat_sky = ecef2sky(rx_ecf, sat_ecf)\n",
    "        \n",
    "#         P1 = sat['L1']['pseudorange']\n",
    "#         P2 = sat['L2']['pseudorange']\n",
    "#         TEC = (P1 - P2) / (kappa_u * (1 / fL1**2 - 1 / fL2**2))\n",
    "\n",
    "#         L1 = sat['L1']['carrier'] * c / fL1\n",
    "#         L2 = sat['L2']['carrier'] * c / fL2\n",
    "#         TEC_rel = -(L1 - L2) / (kappa_u * (1 / fL1**2 - 1 / fL2**2))\n",
    "    \n",
    "#         TEC_diff = diff(TEC_rel)\n",
    "#         threshold = 0.7\n",
    "#         jump_indices = numpy.where(abs(TEC_diff) > threshold)[0]\n",
    "        \n",
    "#         date_str = '{0:04}{1:02}{2:02}'.format(dt.year, dt.month, dt.day)\n",
    "        \n",
    "#         for jump_index in jump_indices:\n",
    "#             data['Date_str'].append(date_str)\n",
    "#             data['Satellite_id'].append(sat_id)\n",
    "#             data['Station_id'].append(station_id)\n",
    "#             data['Azimuth'].append(sat_sky[jump_index, 0])\n",
    "#             data['Elevation'].append(sat_sky[jump_index, 1])\n",
    "\n",
    "#     print('')"
   ]
  },
  {
   "cell_type": "code",
   "execution_count": null,
   "metadata": {},
   "outputs": [],
   "source": []
  }
 ],
 "metadata": {
  "kernelspec": {
   "display_name": "Python 3",
   "language": "python",
   "name": "python3"
  },
  "language_info": {
   "codemirror_mode": {
    "name": "ipython",
    "version": 3
   },
   "file_extension": ".py",
   "mimetype": "text/x-python",
   "name": "python",
   "nbconvert_exporter": "python",
   "pygments_lexer": "ipython3",
   "version": "3.7.1"
  }
 },
 "nbformat": 4,
 "nbformat_minor": 2
}
