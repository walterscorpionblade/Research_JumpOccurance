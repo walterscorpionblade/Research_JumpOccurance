{
 "cells": [
  {
   "cell_type": "code",
   "execution_count": 1,
   "metadata": {},
   "outputs": [],
   "source": [
    "from datetime import datetime\n",
    "import os\n",
    "from time_utils.gpst import dt2gpst, gpst2dt, gpst_week_number, gpst_week_day\n",
    "\n",
    "import zipfile\n",
    "import tarfile\n",
    "import gzip\n",
    "import shutil\n",
    "\n",
    "from ftplib import FTP\n",
    "from os.path import basename, dirname, join, exists\n",
    "from os import makedirs\n",
    "\n",
    "import matplotlib.pyplot as plt\n",
    "\n",
    "from ftplib import FTP\n",
    "from os.path import basename, dirname, join, exists\n",
    "from os import makedirs\n",
    "\n",
    "import numpy as np\n",
    "from pandas import DataFrame"
   ]
  },
  {
   "cell_type": "code",
   "execution_count": 2,
   "metadata": {},
   "outputs": [
    {
     "name": "stdout",
     "output_type": "stream",
     "text": [
      "`rarfile` package not found.  \".rar\" file decompression will not be available\n"
     ]
    }
   ],
   "source": [
    "import zipfile\n",
    "import tarfile\n",
    "\n",
    "import gzip\n",
    "import shutil\n",
    "\n",
    "rarfile = None\n",
    "try:\n",
    "    import rarfile\n",
    "except ImportError:\n",
    "    msg = '`rarfile` package not found.  \".rar\" file decompression will not be available'\n",
    "    print(msg)\n",
    "    #raise ImportError(msg)\n",
    "\n",
    "from os.path import dirname, join, basename\n",
    "import subprocess"
   ]
  },
  {
   "cell_type": "code",
   "execution_count": 3,
   "metadata": {},
   "outputs": [
    {
     "name": "stdout",
     "output_type": "stream",
     "text": [
      "`rarfile` package not found.  \".rar\" file decompression will not be available\n"
     ]
    }
   ],
   "source": [
    "import zipfile\n",
    "import tarfile\n",
    "\n",
    "import gzip\n",
    "import shutil\n",
    "\n",
    "rarfile = None\n",
    "try:\n",
    "    import rarfile\n",
    "except ImportError:\n",
    "    msg = '`rarfile` package not found.  \".rar\" file decompression will not be available'\n",
    "    print(msg)\n",
    "    #raise ImportError(msg)\n",
    "\n",
    "from os.path import dirname, join, basename\n",
    "import subprocess\n",
    "\n",
    "from scipy.constants import c"
   ]
  },
  {
   "cell_type": "code",
   "execution_count": 4,
   "metadata": {},
   "outputs": [
    {
     "name": "stdout",
     "output_type": "stream",
     "text": [
      "`rarfile` package not found.  \".rar\" file decompression will not be available\n"
     ]
    }
   ],
   "source": [
    "from RINEX2Helper import format_filepath, ftp_download, fix_bad_zip_file, decompress\n",
    "from rinex2 import parse_RINEX2_obs_file"
   ]
  },
  {
   "cell_type": "code",
   "execution_count": 5,
   "metadata": {},
   "outputs": [
    {
     "name": "stdout",
     "output_type": "stream",
     "text": [
      "/Users/liuzijun 1/Projects/gnss-research/data/rinex/pub/gps/data/daily/2017/233/17o/nist2330.17o\n",
      "/Users/liuzijun 1/Projects/gnss-research/data/rinex/pub/gps/data/daily/2017/234/17o/nist2340.17o\n",
      "/Users/liuzijun 1/Projects/gnss-research/data/rinex/pub/gps/data/daily/2017/235/17o/nist2350.17o\n",
      "/Users/liuzijun 1/Projects/gnss-research/data/rinex/pub/gps/data/daily/2017/236/17o/nist2360.17o\n",
      "/Users/liuzijun 1/Projects/gnss-research/data/rinex/pub/gps/data/daily/2017/237/17o/nist2370.17o\n",
      "/Users/liuzijun 1/Projects/gnss-research/data/rinex/pub/gps/data/daily/2017/238/17o/nist2380.17o\n",
      "/Users/liuzijun 1/Projects/gnss-research/data/rinex/pub/gps/data/daily/2017/239/17o/nist2390.17o\n"
     ]
    }
   ],
   "source": [
    "for day in range(21, 28):\n",
    "    ftp_host = 'cddis.gsfc.nasa.gov'\n",
    "    filepath_template = \\\n",
    "        'pub/gps/data/daily/{yyyy}/{ddd}/{yy}o/nist{ddd}0.{yy}o.Z'\n",
    "    url_filepath = format_filepath(filepath_template, datetime(2017, 8, day))\n",
    "    filepath = os.path.join('/Users/liuzijun 1/Projects/gnss-research/data/rinex/', url_filepath)\n",
    "    if not os.path.exists(os.path.dirname(filepath)):\n",
    "        os.makedirs(os.path.dirname(filepath))\n",
    "    if not os.path.exists(filepath):\n",
    "        success = ftp_download(ftp_host, url_filepath, filepath)\n",
    "    subprocess.call('uncompress -f ' + filepath.replace(' ', '\\ '), shell=True)\n",
    "    filepath = filepath[:-2]\n",
    "    print (filepath)"
   ]
  },
  {
   "cell_type": "code",
   "execution_count": 6,
   "metadata": {},
   "outputs": [],
   "source": [
    "def download_and_decompress(station_id, dt, overwrite=False):\n",
    "    ftp_host = 'cddis.gsfc.nasa.gov'\n",
    "    filepath_template = 'pub/gps/data/daily/{yyyy}/{ddd}/{yy}o/{station_id}{ddd}0.{yy}o.Z'\n",
    "    rinex_dir = '/Users/liuzijun 1/Projects/gnss-research/data/rinex/'\n",
    "    url_filepath = format_filepath(filepath_template, dt, params={'station_id': station_id})\n",
    "    filepath = os.path.join(rinex_dir, url_filepath)\n",
    "    if not os.path.exists(os.path.dirname(filepath)):\n",
    "        os.makedirs(os.path.dirname(filepath))\n",
    "    if overwrite or (not os.path.exists(filepath) and not os.path.exists(filepath[:-2])):\n",
    "        success = ftp_download(ftp_host, url_filepath, filepath)\n",
    "    if overwrite or (os.path.exists(filepath) and not os.path.exists(filepath[:-2])):\n",
    "        subprocess.call('uncompress -f ' + filepath.replace(' ', '\\ '), shell=True)\n",
    "    filepath = filepath[:-2]\n",
    "    return filepath "
   ]
  },
  {
   "cell_type": "code",
   "execution_count": 36,
   "metadata": {
    "scrolled": true
   },
   "outputs": [
    {
     "ename": "ValueError",
     "evalue": "operands could not be broadcast together with shapes (966,) (965,) ",
     "output_type": "error",
     "traceback": [
      "\u001b[0;31m---------------------------------------------------------------------------\u001b[0m",
      "\u001b[0;31mValueError\u001b[0m                                Traceback (most recent call last)",
      "\u001b[0;32m<ipython-input-36-24903249052f>\u001b[0m in \u001b[0;36m<module>\u001b[0;34m\u001b[0m\n\u001b[1;32m     18\u001b[0m         \u001b[0mP1\u001b[0m \u001b[0;34m=\u001b[0m \u001b[0msat\u001b[0m\u001b[0;34m[\u001b[0m\u001b[0;34m'L1'\u001b[0m\u001b[0;34m]\u001b[0m\u001b[0;34m[\u001b[0m\u001b[0;34m'pseudorange'\u001b[0m\u001b[0;34m]\u001b[0m\u001b[0;34m\u001b[0m\u001b[0;34m\u001b[0m\u001b[0m\n\u001b[1;32m     19\u001b[0m         \u001b[0mP2\u001b[0m \u001b[0;34m=\u001b[0m \u001b[0msat\u001b[0m\u001b[0;34m[\u001b[0m\u001b[0;34m'L2'\u001b[0m\u001b[0;34m]\u001b[0m\u001b[0;34m[\u001b[0m\u001b[0;34m'pseudorange'\u001b[0m\u001b[0;34m]\u001b[0m\u001b[0;34m\u001b[0m\u001b[0;34m\u001b[0m\u001b[0m\n\u001b[0;32m---> 20\u001b[0;31m         \u001b[0mTEC\u001b[0m \u001b[0;34m=\u001b[0m \u001b[0;34m(\u001b[0m\u001b[0mP1\u001b[0m \u001b[0;34m-\u001b[0m \u001b[0mP2\u001b[0m\u001b[0;34m)\u001b[0m \u001b[0;34m/\u001b[0m \u001b[0;34m(\u001b[0m\u001b[0mkappa_u\u001b[0m \u001b[0;34m*\u001b[0m \u001b[0;34m(\u001b[0m\u001b[0;36m1\u001b[0m \u001b[0;34m/\u001b[0m \u001b[0mfL1\u001b[0m\u001b[0;34m**\u001b[0m\u001b[0;36m2\u001b[0m \u001b[0;34m-\u001b[0m \u001b[0;36m1\u001b[0m \u001b[0;34m/\u001b[0m \u001b[0mfL2\u001b[0m\u001b[0;34m**\u001b[0m\u001b[0;36m2\u001b[0m\u001b[0;34m)\u001b[0m\u001b[0;34m)\u001b[0m\u001b[0;34m\u001b[0m\u001b[0;34m\u001b[0m\u001b[0m\n\u001b[0m\u001b[1;32m     21\u001b[0m \u001b[0;34m\u001b[0m\u001b[0m\n\u001b[1;32m     22\u001b[0m         \u001b[0mL1\u001b[0m \u001b[0;34m=\u001b[0m \u001b[0msat\u001b[0m\u001b[0;34m[\u001b[0m\u001b[0;34m'L1'\u001b[0m\u001b[0;34m]\u001b[0m\u001b[0;34m[\u001b[0m\u001b[0;34m'carrier'\u001b[0m\u001b[0;34m]\u001b[0m \u001b[0;34m*\u001b[0m \u001b[0mc\u001b[0m \u001b[0;34m/\u001b[0m \u001b[0mfL1\u001b[0m\u001b[0;34m\u001b[0m\u001b[0;34m\u001b[0m\u001b[0m\n",
      "\u001b[0;31mValueError\u001b[0m: operands could not be broadcast together with shapes (966,) (965,) "
     ]
    }
   ],
   "source": [
    "Number_of_Jump_Point = []\n",
    "Name_of_Satellite = []\n",
    "for day in range(21, 28):\n",
    "    dt = datetime(2017, 8, day)\n",
    "    station_id = 'nist'\n",
    "    filepath = download_and_decompress(station_id, dt)\n",
    "    header, observations = parse_RINEX2_obs_file(filepath)\n",
    "    satellites = observations['satellites']\n",
    "    time = observations['time']\n",
    "    sat_ids = satellites.keys()\n",
    "    \n",
    "    for sat_id in sat_ids:\n",
    "        header, observations = parse_RINEX2_obs_file(filepath)\n",
    "        sat = observations['satellites'][sat_id]\n",
    "        kappa_u = 40.308e16\n",
    "        fL1 = 1.57542e9\n",
    "        fL2 = 1.2276e9\n",
    "        P1 = sat['L1']['pseudorange']\n",
    "        P2 = sat['L2']['pseudorange']\n",
    "        TEC = (P1 - P2) / (kappa_u * (1 / fL1**2 - 1 / fL2**2))\n",
    "\n",
    "        L1 = sat['L1']['carrier'] * c / fL1\n",
    "        L2 = sat['L2']['carrier'] * c / fL2\n",
    "        TEC_rel = -(L1 - L2) / (kappa_u * (1 / fL1**2 - 1 / fL2**2))\n",
    "    \n",
    "        TEC_diff = np.diff(TEC_rel)\n",
    "        threshold = 0.7\n",
    "        indices = abs(TEC_diff) > threshold\n",
    "        \n",
    "        plot_filename = '{0:04}{1:02}{2:02}_{3}'.format(dt.year, dt.month, dt.day, sat_id)\n",
    "        Name_of_Satellite.append(plot_filename)\n",
    "        \n",
    "        Number_of_Jump_Point.append(np.sum(indices))\n",
    "        \n",
    "Table_Satellite_NumberJumpPoint = {'Name_of_Satellite_Station': Name_of_Satellite, \n",
    "                                   'Number_of_Jump_Point': Number_of_Jump_Point}\n",
    "df = DataFrame(Table_Satellite_NumberJumpPoint, columns = ['Name_of_Satellite_Station', 'Number_of_Jump_Point'])\n",
    "export_csv = df.to_csv('export_table.csv', index = None, header = True)"
   ]
  },
  {
   "cell_type": "code",
   "execution_count": null,
   "metadata": {},
   "outputs": [],
   "source": []
  }
 ],
 "metadata": {
  "kernelspec": {
   "display_name": "Python 3",
   "language": "python",
   "name": "python3"
  },
  "language_info": {
   "codemirror_mode": {
    "name": "ipython",
    "version": 3
   },
   "file_extension": ".py",
   "mimetype": "text/x-python",
   "name": "python",
   "nbconvert_exporter": "python",
   "pygments_lexer": "ipython3",
   "version": "3.7.1"
  }
 },
 "nbformat": 4,
 "nbformat_minor": 2
}
