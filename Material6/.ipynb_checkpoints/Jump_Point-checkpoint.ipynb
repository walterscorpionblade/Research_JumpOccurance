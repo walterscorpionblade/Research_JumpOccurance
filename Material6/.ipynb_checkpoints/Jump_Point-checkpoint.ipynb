{
 "cells": [
  {
   "cell_type": "code",
   "execution_count": 8,
   "metadata": {},
   "outputs": [],
   "source": [
    "from datetime import datetime\n",
    "import os\n",
    "from time_utils.gpst import dt2gpst, gpst2dt, gpst_week_number, gpst_week_day\n",
    "\n",
    "import subprocess\n",
    "\n",
    "from ftplib import FTP\n",
    "from os.path import basename, dirname, join, exists\n",
    "from os import makedirs\n",
    "\n",
    "import matplotlib.pyplot as plt\n",
    "\n",
    "import numpy\n",
    "from numpy import diff\n",
    "from pandas import DataFrame"
   ]
  },
  {
   "cell_type": "code",
   "execution_count": 2,
   "metadata": {},
   "outputs": [
    {
     "name": "stdout",
     "output_type": "stream",
     "text": [
      "`rarfile` package not found.  \".rar\" file decompression will not be available\n"
     ]
    }
   ],
   "source": [
    "from RINEX2Helper import format_filepath, ftp_download, fix_bad_zip_file, decompress\n",
    "from rinex2 import parse_RINEX2_obs_file\n",
    "from rinex_nav import parse_rinex_nav_file"
   ]
  },
  {
   "cell_type": "code",
   "execution_count": 3,
   "metadata": {},
   "outputs": [],
   "source": [
    "def download_and_decompress(station_id, dt, overwrite=False):\n",
    "    ftp_host = 'cddis.gsfc.nasa.gov'\n",
    "    filepath_template = 'pub/gps/data/daily/{yyyy}/{ddd}/{yy}o/{station_id}{ddd}0.{yy}o.Z'\n",
    "    rinex_dir = '/Users/liuzijun 1/Projects/gnss-research/data/rinex/'\n",
    "    url_filepath = format_filepath(filepath_template, dt, params={'station_id': station_id})\n",
    "    filepath = os.path.join(rinex_dir, url_filepath)\n",
    "    if not os.path.exists(os.path.dirname(filepath)):\n",
    "        os.makedirs(os.path.dirname(filepath))\n",
    "    if overwrite or (not os.path.exists(filepath) and not os.path.exists(filepath[:-2])):\n",
    "        success = ftp_download(ftp_host, url_filepath, filepath)\n",
    "    if overwrite or (os.path.exists(filepath) and not os.path.exists(filepath[:-2])):\n",
    "        subprocess.call('uncompress -f ' + filepath.replace(' ', '\\ '), shell=True)\n",
    "    filepath = filepath[:-2]\n",
    "    return filepath "
   ]
  },
  {
   "cell_type": "code",
   "execution_count": 4,
   "metadata": {},
   "outputs": [],
   "source": [
    "from scipy.constants import c\n",
    "kappa_u = 40.308e16\n",
    "fL1 = 1.57542e9\n",
    "fL2 = 1.2276e9"
   ]
  },
  {
   "cell_type": "code",
   "execution_count": 25,
   "metadata": {},
   "outputs": [
    {
     "name": "stdout",
     "output_type": "stream",
     "text": [
      "2017-08-01 00:00:00\n",
      "G32\n",
      "2017-08-02 00:00:00\n",
      "G05"
     ]
    },
    {
     "name": "stderr",
     "output_type": "stream",
     "text": [
      "/anaconda3/lib/python3.7/site-packages/ipykernel_launcher.py:41: RuntimeWarning: invalid value encountered in greater\n"
     ]
    },
    {
     "name": "stdout",
     "output_type": "stream",
     "text": [
      "G32\n"
     ]
    }
   ],
   "source": [
    "data = {\n",
    "    'date_str': [],\n",
    "    'station_id': [],\n",
    "    'satellite_id': [],\n",
    "    'azimuth': [],\n",
    "    'elevation': []\n",
    "}\n",
    "for day in range(1, 3):\n",
    "    dt = datetime(2017, 8, day)\n",
    "    print(dt)\n",
    "    station_id = 'nist'\n",
    "    filepath = download_and_decompress(station_id, dt)\n",
    "    header, observations = parse_RINEX2_obs_file(filepath)\n",
    "    satellites = observations['satellites']\n",
    "    time = observations['time']\n",
    "    sat_ids = sorted(satellites.keys())\n",
    "    print('', end='')\n",
    "    for sat_id in sat_ids:\n",
    "        print('\\r' + sat_id, end='')\n",
    "        \n",
    "        header, observations = parse_RINEX2_obs_file(filepath)\n",
    "        sat = observations['satellites'][sat_id]\n",
    "        time = observations['time'][sat['index']]\n",
    "        rx_ecf = list(map(float, header['approximate_position_xyz'].split()))\n",
    "        \n",
    "        sat_prn = int(sat_id[1:])\n",
    "        orbit_params = compute_gps_orbital_parameters_from_ephemeris(nav_data[sat_prn][0], time)\n",
    "        sat_ecf = compute_ecef_position_from_orbital_parameters(orbit_params)\n",
    "        sat_sky = ecef2sky(rx_ecf, sat_ecf)\n",
    "        \n",
    "        P1 = sat['L1']['pseudorange']\n",
    "        P2 = sat['L2']['pseudorange']\n",
    "        TEC = (P1 - P2) / (kappa_u * (1 / fL1**2 - 1 / fL2**2))\n",
    "\n",
    "        L1 = sat['L1']['carrier'] * c / fL1\n",
    "        L2 = sat['L2']['carrier'] * c / fL2\n",
    "        TEC_rel = -(L1 - L2) / (kappa_u * (1 / fL1**2 - 1 / fL2**2))\n",
    "    \n",
    "        TEC_diff = diff(TEC_rel)\n",
    "        threshold = 0.7\n",
    "        jump_indices = numpy.where(abs(TEC_diff) > threshold)[0]\n",
    "        \n",
    "        date_str = '{0:04}{1:02}{2:02}'.format(dt.year, dt.month, dt.day)\n",
    "        \n",
    "        for jump_index in jump_indices:\n",
    "            data['date_str'].append(date_str)\n",
    "            data['satellite_id'].append(sat_id)\n",
    "            data['station_id'].append(station_id)\n",
    "            data['azimuth'].append(sat_sky[jump_index, 0])\n",
    "            data['elevation'].append(sat_sky[jump_index, 1])\n",
    "\n",
    "    print('')"
   ]
  },
  {
   "cell_type": "code",
   "execution_count": 26,
   "metadata": {},
   "outputs": [],
   "source": [
    "df = DataFrame(data)\n",
    "export_csv = df.to_csv('export_table_station_ID.csv', index = None, header = True)"
   ]
  },
  {
   "cell_type": "code",
   "execution_count": null,
   "metadata": {},
   "outputs": [],
   "source": []
  },
  {
   "cell_type": "code",
   "execution_count": 6,
   "metadata": {},
   "outputs": [],
   "source": [
    "def download_and_decompress_nav(dt, overwrite=False):\n",
    "    ftp_host = 'cddis.gsfc.nasa.gov'\n",
    "    filepath_template = 'pub/gps/data/daily/{yyyy}/{ddd}/{yy}n/brdc{ddd}0.{yy}n.Z'\n",
    "    rinex_dir = '/Users/liuzijun 1/Projects/gnss-research/data/rinex/'\n",
    "    url_filepath = format_filepath(filepath_template, dt)\n",
    "    filepath = os.path.join(rinex_dir, url_filepath)\n",
    "    if not os.path.exists(os.path.dirname(filepath)):\n",
    "        os.makedirs(os.path.dirname(filepath))\n",
    "    if overwrite or (not os.path.exists(filepath) and not os.path.exists(filepath[:-2])):\n",
    "        success = ftp_download(ftp_host, url_filepath, filepath)\n",
    "    if overwrite or (os.path.exists(filepath) and not os.path.exists(filepath[:-2])):\n",
    "        subprocess.call('uncompress -f ' + filepath.replace(' ', '\\ '), shell=True)\n",
    "    filepath = filepath[:-2]\n",
    "    return filepath "
   ]
  },
  {
   "cell_type": "code",
   "execution_count": 9,
   "metadata": {},
   "outputs": [],
   "source": [
    "nav_filepath = download_and_decompress_nav(dt)"
   ]
  },
  {
   "cell_type": "code",
   "execution_count": 11,
   "metadata": {},
   "outputs": [],
   "source": [
    "headers, nav_data = parse_rinex_nav_file(nav_filepath)"
   ]
  },
  {
   "cell_type": "code",
   "execution_count": 15,
   "metadata": {},
   "outputs": [],
   "source": [
    "from gps_orbit import compute_gps_orbital_parameters_from_ephemeris, compute_ecef_position_from_orbital_parameters\n",
    "from coordinate_conversion import ecef2sky"
   ]
  },
  {
   "cell_type": "code",
   "execution_count": 14,
   "metadata": {},
   "outputs": [
    {
     "data": {
      "text/plain": [
       "{'epoch': datetime.datetime(2017, 8, 1, 0, 0),\n",
       " 'a0': 5.6535936892e-05,\n",
       " 'a1': -3.41060513165e-13,\n",
       " 'a2': 0.0,\n",
       " 'iode1': 15.0,\n",
       " 'c_rs': -15.21875,\n",
       " 'delta_n': 4.4373278385e-09,\n",
       " 'm_0': -1.56336161327,\n",
       " 'c_uc': -9.18284058571e-07,\n",
       " 'e': 0.00692941155285,\n",
       " 'c_us': 7.7597796917e-06,\n",
       " 'sqrt_a': 5153.6820488,\n",
       " 't_oe': 172800.0,\n",
       " 'c_ic': 8.00937414169e-08,\n",
       " 'omega_0': 2.63985660401,\n",
       " 'c_is': -7.63684511185e-08,\n",
       " 'i_0': 0.968356528119,\n",
       " 'c_rc': 230.90625,\n",
       " 'omega': 0.594161101378,\n",
       " 'omega_dot': -7.92283039175e-09,\n",
       " 'i_dot': 4.16445905538e-10,\n",
       " 'l2_codes': 1.0,\n",
       " 'week': 1960.0,\n",
       " 'l2p_data': 0.0,\n",
       " 'accuracy': 2.0,\n",
       " 'health': 0.0,\n",
       " 'tgd': 5.58793544769e-09,\n",
       " 'iodc': 15.0,\n",
       " 'transmit_time': 172800.0,\n",
       " 'fit_interval': 0.0}"
      ]
     },
     "execution_count": 14,
     "metadata": {},
     "output_type": "execute_result"
    }
   ],
   "source": []
  },
  {
   "cell_type": "code",
   "execution_count": 22,
   "metadata": {},
   "outputs": [
    {
     "data": {
      "text/plain": [
       "'/Users/liuzijun 1/Projects/gnss-research/data/rinex/pub/gps/data/daily/2017/239/17n/brdc2390.17n'"
      ]
     },
     "execution_count": 22,
     "metadata": {},
     "output_type": "execute_result"
    }
   ],
   "source": [
    "nav_filepath"
   ]
  },
  {
   "cell_type": "code",
   "execution_count": null,
   "metadata": {},
   "outputs": [],
   "source": [
    "\n",
    "nav_data = parse_rinex_nav_file(filepath)\n",
    "\n",
    "\n",
    "eph = nav_data[1][sat_prn][0]\n",
    "params = compute_gps_orbital_parameters_from_ephemeris(eph, t)\n",
    "sat_ecf = compute_ecef_position_from_orbital_parameters(params)\n",
    "sat_elev = ecef2sky(rx_ecf, sat_ecf)[:, 1]\n"
   ]
  }
 ],
 "metadata": {
  "kernelspec": {
   "display_name": "Python 3",
   "language": "python",
   "name": "python3"
  },
  "language_info": {
   "codemirror_mode": {
    "name": "ipython",
    "version": 3
   },
   "file_extension": ".py",
   "mimetype": "text/x-python",
   "name": "python",
   "nbconvert_exporter": "python",
   "pygments_lexer": "ipython3",
   "version": "3.7.1"
  }
 },
 "nbformat": 4,
 "nbformat_minor": 2
}
