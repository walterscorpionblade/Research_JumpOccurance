{
 "cells": [
  {
   "cell_type": "code",
   "execution_count": 1,
   "metadata": {},
   "outputs": [],
   "source": [
    "from datetime import datetime\n",
    "import os\n",
    "from time_utils.gpst import dt2gpst, gpst2dt, gpst_week_number, gpst_week_day\n",
    "\n",
    "import zipfile\n",
    "import tarfile\n",
    "import gzip\n",
    "import shutil\n",
    "\n",
    "from ftplib import FTP\n",
    "from os.path import basename, dirname, join, exists\n",
    "from os import makedirs\n",
    "\n",
    "import matplotlib.pyplot as plt\n",
    "\n",
    "from ftplib import FTP\n",
    "from os.path import basename, dirname, join, exists\n",
    "from os import makedirs"
   ]
  },
  {
   "cell_type": "code",
   "execution_count": 2,
   "metadata": {},
   "outputs": [
    {
     "name": "stdout",
     "output_type": "stream",
     "text": [
      "`rarfile` package not found.  \".rar\" file decompression will not be available\n"
     ]
    }
   ],
   "source": [
    "import zipfile\n",
    "import tarfile\n",
    "\n",
    "import gzip\n",
    "import shutil\n",
    "\n",
    "rarfile = None\n",
    "try:\n",
    "    import rarfile\n",
    "except ImportError:\n",
    "    msg = '`rarfile` package not found.  \".rar\" file decompression will not be available'\n",
    "    print(msg)\n",
    "    #raise ImportError(msg)\n",
    "\n",
    "from os.path import dirname, join, basename\n",
    "import subprocess"
   ]
  },
  {
   "cell_type": "code",
   "execution_count": 3,
   "metadata": {},
   "outputs": [
    {
     "name": "stdout",
     "output_type": "stream",
     "text": [
      "`rarfile` package not found.  \".rar\" file decompression will not be available\n"
     ]
    }
   ],
   "source": [
    "from RINEX2Helper import format_filepath"
   ]
  },
  {
   "cell_type": "code",
   "execution_count": 4,
   "metadata": {},
   "outputs": [],
   "source": [
    "from RINEX2Helper import ftp_download"
   ]
  },
  {
   "cell_type": "code",
   "execution_count": 5,
   "metadata": {},
   "outputs": [
    {
     "name": "stdout",
     "output_type": "stream",
     "text": [
      "`rarfile` package not found.  \".rar\" file decompression will not be available\n"
     ]
    }
   ],
   "source": [
    "import zipfile\n",
    "import tarfile\n",
    "\n",
    "import gzip\n",
    "import shutil\n",
    "\n",
    "rarfile = None\n",
    "try:\n",
    "    import rarfile\n",
    "except ImportError:\n",
    "    msg = '`rarfile` package not found.  \".rar\" file decompression will not be available'\n",
    "    print(msg)\n",
    "    #raise ImportError(msg)\n",
    "\n",
    "from os.path import dirname, join, basename\n",
    "import subprocess"
   ]
  },
  {
   "cell_type": "code",
   "execution_count": 6,
   "metadata": {},
   "outputs": [],
   "source": [
    "from RINEX2Helper import fix_bad_zip_file"
   ]
  },
  {
   "cell_type": "code",
   "execution_count": 7,
   "metadata": {},
   "outputs": [],
   "source": [
    "from RINEX2Helper import decompress"
   ]
  },
  {
   "cell_type": "code",
   "execution_count": 17,
   "metadata": {},
   "outputs": [],
   "source": [
    "from rinex2 import parse_RINEX2_obs_file"
   ]
  },
  {
   "cell_type": "code",
   "execution_count": 18,
   "metadata": {},
   "outputs": [],
   "source": [
    "for day in range(21, 25):\n",
    "    ftp_host = 'cddis.gsfc.nasa.gov'\n",
    "    filepath_template = \\\n",
    "        'pub/gps/data/daily/{yyyy}/{ddd}/{yy}o/nist{ddd}0.{yy}o.Z'\n",
    "    url_filepath = format_filepath(filepath_template, datetime(2017, 8, day))\n",
    "    filepath = os.path.join('/Users/liuzijun 1/Projects/gnss-research/data/rinex/', url_filepath)\n",
    "    if not os.path.exists(os.path.dirname(filepath)):\n",
    "        os.makedirs(os.path.dirname(filepath))\n",
    "    if not os.path.exists(filepath):\n",
    "        success = ftp_download(ftp_host, url_filepath, filepath)\n",
    "    subprocess.call('uncompress -f ' + filepath.replace(' ', '\\ '), shell=True)\n",
    "    filepath = filepath[:-2]"
   ]
  },
  {
   "cell_type": "code",
   "execution_count": 19,
   "metadata": {},
   "outputs": [],
   "source": [
    "def download_and_decompress(station_id, dt, overwrite=False):\n",
    "    ftp_host = 'cddis.gsfc.nasa.gov'\n",
    "    filepath_template = 'pub/gps/data/daily/{yyyy}/{ddd}/{yy}o/{station_id}{ddd}0.{yy}o.Z'\n",
    "    rinex_dir = '/Users/liuzijun 1/Projects/gnss-research/data/rinex/'\n",
    "    url_filepath = format_filepath(filepath_template, dt, params={'station_id': station_id})\n",
    "    filepath = os.path.join(rinex_dir, url_filepath)\n",
    "    if not os.path.exists(os.path.dirname(filepath)):\n",
    "        os.makedirs(os.path.dirname(filepath))\n",
    "    if overwrite or (not os.path.exists(filepath) and not os.path.exists(filepath[:-2])):\n",
    "        success = ftp_download(ftp_host, url_filepath, filepath)\n",
    "    if overwrite or (os.path.exists(filepath) and not os.path.exists(filepath[:-2])):\n",
    "        subprocess.call('uncompress -f ' + filepath.replace(' ', '\\ '), shell=True)\n",
    "    filepath = filepath[:-2]\n",
    "    return filepath "
   ]
  },
  {
   "cell_type": "code",
   "execution_count": 20,
   "metadata": {},
   "outputs": [],
   "source": [
    "def plot_and_save(time, satellite, plot_filepath):\n",
    "    index = satellite['index']\n",
    "    \n",
    "    c = 299792458\n",
    "    kappa = 40.308\n",
    "    fL1 = 1.57542e9\n",
    "    fL2 = 1.2276e9\n",
    "    \n",
    "    P1 = satellite['L1']['pseudorange']\n",
    "    P2 = satellite['L2']['pseudorange']\n",
    "    TEC = (P1 - P2) / (kappa * (1 / fL1**2 - 1 / fL2**2))\n",
    "    \n",
    "    L1 = satellite['L1']['carrier'] * c / fL1\n",
    "    L2 = satellite['L2']['carrier'] * c / fL2\n",
    "    TEC_rel = -(L1 - L2) / (kappa * (1 / fL1**2 - 1 / fL2**2))\n",
    "    \n",
    "    \n",
    "    fig = plt.figure(figsize=(12, 7))\n",
    "    ax = fig.add_subplot(111)\n",
    "    t = time[index] - time[0]\n",
    "    ax.scatter(t / 3600, TEC)\n",
    "    ax.scatter(t / 3600, TEC_rel)\n",
    "    ax.set_ylabel('[TECu]')\n",
    "    ax.set_xlabel('Time [hr]')\n",
    "\n",
    "    plt.savefig(plot_filepath)\n",
    "    plt.close()"
   ]
  },
  {
   "cell_type": "code",
   "execution_count": 21,
   "metadata": {},
   "outputs": [
    {
     "name": "stdout",
     "output_type": "stream",
     "text": [
      "operands could not be broadcast together with shapes (966,) (965,) \n",
      "operands could not be broadcast together with shapes (947,) (946,) \n",
      "operands could not be broadcast together with shapes (889,) (888,) \n"
     ]
    }
   ],
   "source": [
    "for day in range(21, 25):\n",
    "    dt = datetime(2017, 8, day)\n",
    "    station_id = 'nist'\n",
    "    filepath = download_and_decompress(station_id, dt)\n",
    "    header, observations = parse_RINEX2_obs_file(filepath)\n",
    "    satellites = observations['satellites']\n",
    "    time = observations['time']\n",
    "    sat_ids = satellites.keys()\n",
    "    for sat_id in sat_ids:\n",
    "        plot_filename = '{0:04}{1:02}{2:02}_{3}_TEC-plot.png'.format(dt.year, dt.month, dt.day, sat_id)\n",
    "        plot_dir = '/Users/liuzijun 1/Projects/gnss-research/plots'\n",
    "        if not os.path.exists(plot_dir):\n",
    "            os.makedirs(plot_dir)\n",
    "        plot_filepath = os.path.join(plot_dir, plot_filename)\n",
    "#         print(plot_filepath)\n",
    "        try:\n",
    "            plot_and_save(time, satellites[sat_id], plot_filepath)\n",
    "        except Exception as e:\n",
    "            print(e)"
   ]
  },
  {
   "cell_type": "code",
   "execution_count": 22,
   "metadata": {},
   "outputs": [
    {
     "name": "stdout",
     "output_type": "stream",
     "text": [
      "3.0M\t/Users/liuzijun 1/Projects/gnss-research/plots\r\n"
     ]
    }
   ],
   "source": [
    "!du -hs \"{plot_dir}\""
   ]
  },
  {
   "cell_type": "code",
   "execution_count": 23,
   "metadata": {},
   "outputs": [],
   "source": [
    "from datetime import timedelta"
   ]
  },
  {
   "cell_type": "code",
   "execution_count": 24,
   "metadata": {},
   "outputs": [],
   "source": [
    "from rinex2 import parse_RINEX2_obs_file"
   ]
  },
  {
   "cell_type": "code",
   "execution_count": null,
   "metadata": {},
   "outputs": [],
   "source": []
  },
  {
   "cell_type": "code",
   "execution_count": 25,
   "metadata": {},
   "outputs": [
    {
     "ename": "NameError",
     "evalue": "name 'sat' is not defined",
     "output_type": "error",
     "traceback": [
      "\u001b[0;31m---------------------------------------------------------------------------\u001b[0m",
      "\u001b[0;31mNameError\u001b[0m                                 Traceback (most recent call last)",
      "\u001b[0;32m<ipython-input-25-e884668512d9>\u001b[0m in \u001b[0;36m<module>\u001b[0;34m\u001b[0m\n\u001b[1;32m      1\u001b[0m \u001b[0mfig\u001b[0m \u001b[0;34m=\u001b[0m \u001b[0mplt\u001b[0m\u001b[0;34m.\u001b[0m\u001b[0mfigure\u001b[0m\u001b[0;34m(\u001b[0m\u001b[0mfigsize\u001b[0m\u001b[0;34m=\u001b[0m\u001b[0;34m(\u001b[0m\u001b[0;36m21\u001b[0m\u001b[0;34m,\u001b[0m \u001b[0;36m9\u001b[0m\u001b[0;34m)\u001b[0m\u001b[0;34m)\u001b[0m\u001b[0;34m\u001b[0m\u001b[0;34m\u001b[0m\u001b[0m\n\u001b[1;32m      2\u001b[0m \u001b[0max\u001b[0m \u001b[0;34m=\u001b[0m \u001b[0mfig\u001b[0m\u001b[0;34m.\u001b[0m\u001b[0madd_subplot\u001b[0m\u001b[0;34m(\u001b[0m\u001b[0;36m111\u001b[0m\u001b[0;34m)\u001b[0m\u001b[0;34m\u001b[0m\u001b[0;34m\u001b[0m\u001b[0m\n\u001b[0;32m----> 3\u001b[0;31m \u001b[0mtime\u001b[0m \u001b[0;34m=\u001b[0m \u001b[0mobservations\u001b[0m\u001b[0;34m[\u001b[0m\u001b[0;34m'time'\u001b[0m\u001b[0;34m]\u001b[0m\u001b[0;34m[\u001b[0m\u001b[0msat\u001b[0m\u001b[0;34m[\u001b[0m\u001b[0;34m'index'\u001b[0m\u001b[0;34m]\u001b[0m\u001b[0;34m]\u001b[0m\u001b[0;34m\u001b[0m\u001b[0;34m\u001b[0m\u001b[0m\n\u001b[0m\u001b[1;32m      4\u001b[0m \u001b[0mtime\u001b[0m \u001b[0;34m-=\u001b[0m \u001b[0mtime\u001b[0m\u001b[0;34m[\u001b[0m\u001b[0;36m0\u001b[0m\u001b[0;34m]\u001b[0m\u001b[0;34m\u001b[0m\u001b[0;34m\u001b[0m\u001b[0m\n\u001b[1;32m      5\u001b[0m \u001b[0max\u001b[0m\u001b[0;34m.\u001b[0m\u001b[0mscatter\u001b[0m\u001b[0;34m(\u001b[0m\u001b[0mtime\u001b[0m \u001b[0;34m/\u001b[0m \u001b[0;36m3600\u001b[0m\u001b[0;34m,\u001b[0m \u001b[0msat\u001b[0m\u001b[0;34m[\u001b[0m\u001b[0;34m'L1'\u001b[0m\u001b[0;34m]\u001b[0m\u001b[0;34m[\u001b[0m\u001b[0;34m'pseudorange'\u001b[0m\u001b[0;34m]\u001b[0m\u001b[0;34m)\u001b[0m\u001b[0;34m\u001b[0m\u001b[0;34m\u001b[0m\u001b[0m\n",
      "\u001b[0;31mNameError\u001b[0m: name 'sat' is not defined"
     ]
    },
    {
     "data": {
      "image/png": "[encoded data removed]",
      "text/plain": [
       "<Figure size 1512x648 with 1 Axes>"
      ]
     },
     "metadata": {
      "needs_background": "light"
     },
     "output_type": "display_data"
    }
   ],
   "source": [
    "fig = plt.figure(figsize=(21, 9))\n",
    "ax = fig.add_subplot(111)\n",
    "time = observations['time'][sat['index']]\n",
    "time -= time[0]\n",
    "ax.scatter(time / 3600, sat['L1']['pseudorange'])\n",
    "ax.set_ylabel('Pseudorange [m]')\n",
    "ax.set_xlabel('Time [hr]')\n",
    "plt.show()"
   ]
  },
  {
   "cell_type": "code",
   "execution_count": null,
   "metadata": {},
   "outputs": [],
   "source": [
    "fig = plt.figure(figsize=(21, 9))\n",
    "ax = fig.add_subplot(111)\n",
    "time = observations['time'][sat['index']]\n",
    "time -= time[0]\n",
    "ax.scatter(time / 3600, sat['L1']['carrier'])\n",
    "ax.set_ylabel('Carrier [m]')\n",
    "ax.set_xlabel('Time [hr]')\n",
    "plt.show()"
   ]
  },
  {
   "cell_type": "code",
   "execution_count": null,
   "metadata": {},
   "outputs": [],
   "source": [
    "from scipy.constants import c"
   ]
  },
  {
   "cell_type": "code",
   "execution_count": null,
   "metadata": {},
   "outputs": [],
   "source": [
    "kappa = 40.308\n",
    "fL1 = 1.57542e9\n",
    "fL2 = 1.2276e9\n",
    "P1 = sat['L1']['pseudorange']\n",
    "P2 = sat['L2']['pseudorange']\n",
    "TEC = (P1 - P2) / (kappa * (1 / fL1**2 - 1 / fL2**2))\n",
    "\n",
    "L1 = sat['L1']['carrier'] * c / fL1\n",
    "L2 = sat['L2']['carrier'] * c / fL2\n",
    "TEC_rel = -(L1 - L2) / (kappa * (1 / fL1**2 - 1 / fL2**2))"
   ]
  },
  {
   "cell_type": "code",
   "execution_count": null,
   "metadata": {},
   "outputs": [],
   "source": [
    "fig = plt.figure(figsize=(21, 9))\n",
    "ax = fig.add_subplot(111)\n",
    "\n",
    "time = observations['time'][sat['index']]\n",
    "time -= time[0]\n",
    "ax.scatter(time / 3600, TEC)\n",
    "ax.scatter(time / 3600, TEC_rel)\n",
    "ax.set_ylabel('TEC')\n",
    "ax.set_xlabel('Time [hr]')\n",
    "ax.grid()\n",
    "plt.show()"
   ]
  },
  {
   "cell_type": "code",
   "execution_count": null,
   "metadata": {},
   "outputs": [],
   "source": []
  }
 ],
 "metadata": {
  "kernelspec": {
   "display_name": "Python 3",
   "language": "python",
   "name": "python3"
  },
  "language_info": {
   "codemirror_mode": {
    "name": "ipython",
    "version": 3
   },
   "file_extension": ".py",
   "mimetype": "text/x-python",
   "name": "python",
   "nbconvert_exporter": "python",
   "pygments_lexer": "ipython3",
   "version": "3.7.1"
  }
 },
 "nbformat": 4,
 "nbformat_minor": 2
}
