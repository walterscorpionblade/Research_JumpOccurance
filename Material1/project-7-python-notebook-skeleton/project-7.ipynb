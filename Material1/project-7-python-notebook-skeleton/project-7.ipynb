{
 "cells": [
  {
   "cell_type": "markdown",
   "metadata": {},
   "source": [
    "# ASEN 5090 Assignment 7"
   ]
  },
  {
   "cell_type": "code",
   "execution_count": null,
   "metadata": {
    "collapsed": true
   },
   "outputs": [],
   "source": [
    "import numpy\n",
    "from numpy import array, datetime64, exp, where, diff, nan, concatenate, ndarray\n",
    "from types import SimpleNamespace\n",
    "from datetime import datetime, timezone\n",
    "\n",
    "from rinex_utilities import parse_rinex_obs_file\n",
    "\n",
    "import matplotlib.pyplot as plt\n",
    "%matplotlib inline\n",
    "plt.rcParams.update({'font.size': 20})"
   ]
  },
  {
   "cell_type": "code",
   "execution_count": null,
   "metadata": {},
   "outputs": [],
   "source": [
    "# CDDIS FTP path:  ftp://cddis.gsfc.nasa.gov/gnss/data/daily/2017/223/17o/\n",
    "rinex_filename1 = #! FIND APPROPRRIATE RINEX FILE\n",
    "rinex_filename2 = #! FIND APPROPRRIATE RINEX FILE\n",
    "header1, observations1 = parse_rinex_obs_file(rinex_filename1)\n",
    "header2, observations2 = parse_rinex_obs_file(rinex_filename2)"
   ]
  },
  {
   "cell_type": "code",
   "execution_count": null,
   "metadata": {},
   "outputs": [],
   "source": [
    "fL1 = 1.57542e9\n",
    "fL2 = 1.2276e9\n",
    "c = 299792458\n",
    "kappa = #! COMPUTE KAPPA CONSTANT"
   ]
  },
  {
   "cell_type": "code",
   "execution_count": null,
   "metadata": {
    "collapsed": true
   },
   "outputs": [],
   "source": [
    "#! YOUR CODE HERE\n",
    "#! MAKE APPROPRIATE PLOTS"
   ]
  }
 ],
 "metadata": {
  "kernelspec": {
   "display_name": "Python 3",
   "language": "python",
   "name": "python3"
  },
  "language_info": {
   "codemirror_mode": {
    "name": "ipython",
    "version": 3
   },
   "file_extension": ".py",
   "mimetype": "text/x-python",
   "name": "python",
   "nbconvert_exporter": "python",
   "pygments_lexer": "ipython3",
   "version": "3.5.3"
  }
 },
 "nbformat": 4,
 "nbformat_minor": 1
}
