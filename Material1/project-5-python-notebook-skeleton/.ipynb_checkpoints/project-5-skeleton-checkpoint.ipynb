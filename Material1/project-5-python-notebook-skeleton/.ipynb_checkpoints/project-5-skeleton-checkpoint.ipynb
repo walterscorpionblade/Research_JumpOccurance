{
 "cells": [
  {
   "cell_type": "code",
   "execution_count": 1,
   "metadata": {},
   "outputs": [],
   "source": [
    "import numpy\n",
    "from numpy import array, where, nan, diff\n",
    "from project_utilities import parse_rinex_obs_file\n",
    "from types import SimpleNamespace\n",
    "from datetime import datetime\n",
    "\n",
    "import matplotlib.pyplot as plt\n",
    "%matplotlib inline\n",
    "plt.rcParams.update({'font.size': 20})"
   ]
  },
  {
   "cell_type": "code",
   "execution_count": 2,
   "metadata": {},
   "outputs": [],
   "source": [
    "#! download the appropriate RINEX file and use `parse_rinex_obs_file` to load it in\n",
    "\n",
    "# this is the day for which we want an observation file\n",
    "day_start_utc = datetime(2017, 8, 21, 0, 0, 0)\n",
    "# this converts the datetime object into a single number that is in the format used \n",
    "# to store the time in the output of the `parse_rinex_obs_file` function\n",
    "day_start_dt64 = numpy.datetime64(day_start_utc)  "
   ]
  },
  {
   "cell_type": "code",
   "execution_count": null,
   "metadata": {},
   "outputs": [],
   "source": []
  }
 ],
 "metadata": {
  "kernelspec": {
   "display_name": "Python 3",
   "language": "python",
   "name": "python3"
  },
  "language_info": {
   "codemirror_mode": {
    "name": "ipython",
    "version": 3
   },
   "file_extension": ".py",
   "mimetype": "text/x-python",
   "name": "python",
   "nbconvert_exporter": "python",
   "pygments_lexer": "ipython3",
   "version": "3.6.5"
  }
 },
 "nbformat": 4,
 "nbformat_minor": 1
}
