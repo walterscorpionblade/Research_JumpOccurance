{
 "cells": [
  {
   "cell_type": "markdown",
   "metadata": {},
   "source": [
    "# ASEN 5090 Assignment 6"
   ]
  },
  {
   "cell_type": "code",
   "execution_count": 1,
   "metadata": {
    "collapsed": true
   },
   "outputs": [],
   "source": [
    "import numpy\n",
    "from numpy import array, datetime64, exp, where, diff, nan, exp, sin, cos, tan, radians\n",
    "from types import SimpleNamespace\n",
    "from datetime import datetime, timezone\n",
    "\n",
    "from coordinate_utilities import ecef2sky, geo2ecef\n",
    "from orbit_utilities import parse_yuma_almanacs, compute_ecef_position_from_gps_almanac\n",
    "from rinex_utilities import parse_rinex_obs_file\n",
    "\n",
    "import matplotlib.pyplot as plt\n",
    "%matplotlib inline\n",
    "plt.rcParams.update({'font.size': 20})"
   ]
  },
  {
   "cell_type": "code",
   "execution_count": 2,
   "metadata": {},
   "outputs": [],
   "source": [
    "# Yuma URL:  http://www.celestrak.com/GPS/almanac/Yuma/2017/almanac.yuma.week0906.061440.txt\n",
    "almanac_filename = 'almanac.yuma.week0906.061440.txt'\n",
    "with open(almanac_filename, 'r') as f:\n",
    "    almanacs = parse_yuma_almanacs(f.readlines())\n",
    "\n",
    "# CDDIS FTP path:  ftp://cddis.gsfc.nasa.gov/gnss/data/daily/2017/001/17o/\n",
    "rinex_filename = #! YOUR CODE HERE  --  find the RINEX obs file\n",
    "#! use function `parse_rinex_obs_file` to parse RINEX obs file"
   ]
  },
  {
   "cell_type": "code",
   "execution_count": 3,
   "metadata": {},
   "outputs": [],
   "source": [
    "prn = 24\n",
    "sat_id = 'G{0:02}'.format(prn)\n",
    "\n",
    "#! YOUR CODE HERE -- compute GPS times corresponding to satellite obs in RINEX obs file\n",
    "#! Note: times from parsed RINEX obs are `numpy.datetime64` objects.  I've shown below\n",
    "#! how to convert these to seconds into the day.\n",
    "#! Next you will need to convert to GPS seconds by figuring out the GPS time at the start\n",
    "#! of the UTC day, using the information provided in the project description.\n",
    "\n",
    "start_of_day_utc = datetime(2017, 1, 1)\n",
    "# Note: numpy.datetime64 timedelta is in microseconds\n",
    "t = (sat.time - numpy.datetime64(start_of_day_utc)).astype(float) / 1e6"
   ]
  },
  {
   "cell_type": "code",
   "execution_count": 5,
   "metadata": {},
   "outputs": [],
   "source": [
    "boulder_geo = array((40.0150, -105.2705, 1700))\n",
    "#! YOUR CODE HERE\n",
    "#! Compute the satellite sky coordinates, similar to project 4\n",
    "#! Then compute slant tropospheric delay and make appropriate plots"
   ]
  },
  {
   "cell_type": "code",
   "execution_count": null,
   "metadata": {
    "collapsed": true
   },
   "outputs": [],
   "source": []
  }
 ],
 "metadata": {
  "kernelspec": {
   "display_name": "Python 3",
   "language": "python",
   "name": "python3"
  },
  "language_info": {
   "codemirror_mode": {
    "name": "ipython",
    "version": 3
   },
   "file_extension": ".py",
   "mimetype": "text/x-python",
   "name": "python",
   "nbconvert_exporter": "python",
   "pygments_lexer": "ipython3",
   "version": "3.6.5"
  }
 },
 "nbformat": 4,
 "nbformat_minor": 1
}
