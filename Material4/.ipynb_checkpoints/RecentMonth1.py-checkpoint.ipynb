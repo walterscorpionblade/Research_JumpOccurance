{
 "cells": [
  {
   "cell_type": "code",
   "execution_count": 1,
   "metadata": {},
   "outputs": [],
   "source": [
    "from datetime import datetime\n",
    "import os\n",
    "from time_utils.gpst import dt2gpst, gpst2dt, gpst_week_number, gpst_week_day\n",
    "\n",
    "import zipfile\n",
    "import tarfile\n",
    "import gzip\n",
    "import shutil\n",
    "\n",
    "from ftplib import FTP\n",
    "from os.path import basename, dirname, join, exists\n",
    "from os import makedirs\n",
    "\n",
    "import matplotlib.pyplot as plt\n",
    "\n",
    "from ftplib import FTP\n",
    "from os.path import basename, dirname, join, exists\n",
    "from os import makedirs\n",
    "\n",
    "from datetime import timedelta\n",
    "import numpy as np"
   ]
  },
  {
   "cell_type": "code",
   "execution_count": 2,
   "metadata": {},
   "outputs": [
    {
     "name": "stdout",
     "output_type": "stream",
     "text": [
      "`rarfile` package not found.  \".rar\" file decompression will not be available\n"
     ]
    }
   ],
   "source": [
    "import zipfile\n",
    "import tarfile\n",
    "\n",
    "import gzip\n",
    "import shutil\n",
    "\n",
    "rarfile = None\n",
    "try:\n",
    "    import rarfile\n",
    "except ImportError:\n",
    "    msg = '`rarfile` package not found.  \".rar\" file decompression will not be available'\n",
    "    print(msg)\n",
    "    #raise ImportError(msg)\n",
    "\n",
    "from os.path import dirname, join, basename\n",
    "import subprocess"
   ]
  },
  {
   "cell_type": "code",
   "execution_count": 3,
   "metadata": {},
   "outputs": [
    {
     "name": "stdout",
     "output_type": "stream",
     "text": [
      "`rarfile` package not found.  \".rar\" file decompression will not be available\n"
     ]
    }
   ],
   "source": [
    "from RINEX2Helper import format_filepath"
   ]
  },
  {
   "cell_type": "code",
   "execution_count": 4,
   "metadata": {},
   "outputs": [],
   "source": [
    "from RINEX2Helper import ftp_download"
   ]
  },
  {
   "cell_type": "code",
   "execution_count": 5,
   "metadata": {},
   "outputs": [
    {
     "name": "stdout",
     "output_type": "stream",
     "text": [
      "`rarfile` package not found.  \".rar\" file decompression will not be available\n"
     ]
    }
   ],
   "source": [
    "import zipfile\n",
    "import tarfile\n",
    "\n",
    "import gzip\n",
    "import shutil\n",
    "\n",
    "rarfile = None\n",
    "try:\n",
    "    import rarfile\n",
    "except ImportError:\n",
    "    msg = '`rarfile` package not found.  \".rar\" file decompression will not be available'\n",
    "    print(msg)\n",
    "    #raise ImportError(msg)\n",
    "\n",
    "from os.path import dirname, join, basename\n",
    "import subprocess"
   ]
  },
  {
   "cell_type": "code",
   "execution_count": 6,
   "metadata": {},
   "outputs": [],
   "source": [
    "from RINEX2Helper import fix_bad_zip_file"
   ]
  },
  {
   "cell_type": "code",
   "execution_count": 7,
   "metadata": {},
   "outputs": [],
   "source": [
    "from RINEX2Helper import decompress"
   ]
  },
  {
   "cell_type": "code",
   "execution_count": 10,
   "metadata": {},
   "outputs": [],
   "source": [
    "from rinex2 import parse_RINEX2_obs_file"
   ]
  },
  {
   "cell_type": "code",
   "execution_count": 19,
   "metadata": {},
   "outputs": [
    {
     "ename": "IndentationError",
     "evalue": "unexpected indent (<ipython-input-19-60735f5fefb1>, line 2)",
     "output_type": "error",
     "traceback": [
      "\u001b[0;36m  File \u001b[0;32m\"<ipython-input-19-60735f5fefb1>\"\u001b[0;36m, line \u001b[0;32m2\u001b[0m\n\u001b[0;31m    ftp_host = 'cddis.gsfc.nasa.gov'\u001b[0m\n\u001b[0m    ^\u001b[0m\n\u001b[0;31mIndentationError\u001b[0m\u001b[0;31m:\u001b[0m unexpected indent\n"
     ]
    }
   ],
   "source": [
    "for day in range(21, 25):\n",
    "    ftp_host = 'cddis.gsfc.nasa.gov'\n",
    "    filepath_template = \\\n",
    "        'pub/gps/data/daily/{yyyy}/{ddd}/{yy}o/nist{ddd}0.{yy}o.Z'\n",
    "    url_filepath = format_filepath(filepath_template, datetime(2017, 8, day))\n",
    "    filepath = os.path.join('/Users/liuzijun 1/Projects/gnss-research/data/rinex/', url_filepath)\n",
    "    if not os.path.exists(os.path.dirname(filepath)):\n",
    "        os.makedirs(os.path.dirname(filepath))\n",
    "    if not os.path.exists(filepath):\n",
    "        success = ftp_download(ftp_host, url_filepath, filepath)\n",
    "    subprocess.call('uncompress -f ' + filepath.replace(' ', '\\ '), shell=True)\n",
    "    filepath = filepath[:-2]\n",
    "    print (filepath)\n",
    "        #    if os.path.exists(filepath):\n",
    "            #os.remove(filepath)\n",
    "    header, observations = parse_RINEX2_obs_file(filepath)\n",
    "    sat = observations['satellites']['G02']\n",
    "    fig = plt.figure(figsize=(8, 8))\n",
    "    ax = fig.add_subplot(111)\n",
    "    time = observations['time'][sat['index']]\n",
    "    time -= time[0]\n",
    "    ax.scatter(time / 3600, sat['L1']['pseudorange'])\n",
    "    ax.set_ylabel('Pseudorange [m]')\n",
    "    ax.set_xlabel('Time [hr]')\n",
    "plt.show()"
   ]
  },
  {
   "cell_type": "code",
   "execution_count": 20,
   "metadata": {},
   "outputs": [
    {
     "name": "stdout",
     "output_type": "stream",
     "text": [
      "/Users/liuzijun 1/Projects/gnss-research/data/rinex/pub/gps/data/daily/2017/234/17o/nist2340.17o\n"
     ]
    },
    {
     "ename": "KeyError",
     "evalue": "'G02'",
     "output_type": "error",
     "traceback": [
      "\u001b[0;31m---------------------------------------------------------------------------\u001b[0m",
      "\u001b[0;31mKeyError\u001b[0m                                  Traceback (most recent call last)",
      "\u001b[0;32m<ipython-input-20-5630561caf66>\u001b[0m in \u001b[0;36m<module>\u001b[0;34m\u001b[0m\n\u001b[1;32m     14\u001b[0m             \u001b[0;31m#os.remove(filepath)\u001b[0m\u001b[0;34m\u001b[0m\u001b[0;34m\u001b[0m\u001b[0;34m\u001b[0m\u001b[0m\n\u001b[1;32m     15\u001b[0m \u001b[0mheader\u001b[0m\u001b[0;34m,\u001b[0m \u001b[0mobservations\u001b[0m \u001b[0;34m=\u001b[0m \u001b[0mparse_RINEX2_obs_file\u001b[0m\u001b[0;34m(\u001b[0m\u001b[0mfilepath\u001b[0m\u001b[0;34m)\u001b[0m\u001b[0;34m\u001b[0m\u001b[0;34m\u001b[0m\u001b[0m\n\u001b[0;32m---> 16\u001b[0;31m \u001b[0msat\u001b[0m \u001b[0;34m=\u001b[0m \u001b[0mobservations\u001b[0m\u001b[0;34m[\u001b[0m\u001b[0;34m'satellites'\u001b[0m\u001b[0;34m]\u001b[0m\u001b[0;34m[\u001b[0m\u001b[0;34m'G02'\u001b[0m\u001b[0;34m]\u001b[0m\u001b[0;34m\u001b[0m\u001b[0;34m\u001b[0m\u001b[0m\n\u001b[0m\u001b[1;32m     17\u001b[0m \u001b[0mfig\u001b[0m \u001b[0;34m=\u001b[0m \u001b[0mplt\u001b[0m\u001b[0;34m.\u001b[0m\u001b[0mfigure\u001b[0m\u001b[0;34m(\u001b[0m\u001b[0mfigsize\u001b[0m\u001b[0;34m=\u001b[0m\u001b[0;34m(\u001b[0m\u001b[0;36m8\u001b[0m\u001b[0;34m,\u001b[0m \u001b[0;36m8\u001b[0m\u001b[0;34m)\u001b[0m\u001b[0;34m)\u001b[0m\u001b[0;34m\u001b[0m\u001b[0;34m\u001b[0m\u001b[0m\n\u001b[1;32m     18\u001b[0m \u001b[0max\u001b[0m \u001b[0;34m=\u001b[0m \u001b[0mfig\u001b[0m\u001b[0;34m.\u001b[0m\u001b[0madd_subplot\u001b[0m\u001b[0;34m(\u001b[0m\u001b[0;36m111\u001b[0m\u001b[0;34m)\u001b[0m\u001b[0;34m\u001b[0m\u001b[0;34m\u001b[0m\u001b[0m\n",
      "\u001b[0;31mKeyError\u001b[0m: 'G02'"
     ]
    }
   ],
   "source": [
    "ftp_host = 'cddis.gsfc.nasa.gov'\n",
    "filepath_template = \\\n",
    "    'pub/gps/data/daily/{yyyy}/{ddd}/{yy}o/nist{ddd}0.{yy}o.Z'\n",
    "url_filepath = format_filepath(filepath_template, datetime(2017, 8, day))\n",
    "filepath = os.path.join('/Users/liuzijun 1/Projects/gnss-research/data/rinex/', url_filepath)\n",
    "if not os.path.exists(os.path.dirname(filepath)):\n",
    "    os.makedirs(os.path.dirname(filepath))\n",
    "if not os.path.exists(filepath):\n",
    "    success = ftp_download(ftp_host, url_filepath, filepath)\n",
    "subprocess.call('uncompress -f ' + filepath.replace(' ', '\\ '), shell=True)\n",
    "filepath = filepath[:-2]\n",
    "print (filepath)\n",
    "        #    if os.path.exists(filepath):\n",
    "            #os.remove(filepath)\n",
    "header, observations = parse_RINEX2_obs_file(filepath)\n",
    "sat = observations['satellites']['G02']\n",
    "fig = plt.figure(figsize=(8, 8))\n",
    "ax = fig.add_subplot(111)\n",
    "time = observations['time'][sat['index']]\n",
    "time -= time[0]\n",
    "ax.scatter(time / 3600, sat['L1']['pseudorange'])\n",
    "ax.set_ylabel('Pseudorange [m]')\n",
    "ax.set_xlabel('Time [hr]')"
   ]
  },
  {
   "cell_type": "code",
   "execution_count": null,
   "metadata": {
    "collapsed": true
   },
   "outputs": [],
   "source": []
  },
  {
   "cell_type": "code",
   "execution_count": null,
   "metadata": {},
   "outputs": [],
   "source": []
  },
  {
   "cell_type": "code",
   "execution_count": 18,
   "metadata": {},
   "outputs": [],
   "source": [
    "from scipy.constants import c"
   ]
  },
  {
   "cell_type": "code",
   "execution_count": 19,
   "metadata": {},
   "outputs": [],
   "source": [
    "kappa = 40.308\n",
    "fL1 = 1.57542e9\n",
    "fL2 = 1.2276e9\n",
    "P1 = sat['L1']['pseudorange']\n",
    "P2 = sat['L2']['pseudorange']\n",
    "TEC = (P1 - P2) / (kappa * (1 / fL1**2 - 1 / fL2**2))\n",
    "\n",
    "L1 = sat['L1']['carrier'] * c / fL1\n",
    "L2 = sat['L2']['carrier'] * c / fL2\n",
    "TEC_rel = -(L1 - L2) / (kappa * (1 / fL1**2 - 1 / fL2**2))"
   ]
  },
  {
   "cell_type": "code",
   "execution_count": 20,
   "metadata": {},
   "outputs": [
    {
     "data": {
      "image/png": "[encoded data removed]",
      "text/plain": [
       "<Figure size 1512x648 with 1 Axes>"
      ]
     },
     "metadata": {
      "needs_background": "light"
     },
     "output_type": "display_data"
    }
   ],
   "source": [
    "fig = plt.figure(figsize=(21, 9))\n",
    "ax = fig.add_subplot(111)\n",
    "\n",
    "time = observations['time'][sat['index']]\n",
    "time -= time[0]\n",
    "ax.scatter(time / 3600, TEC)\n",
    "ax.scatter(time / 3600, TEC_rel)\n",
    "ax.set_ylabel('TEC')\n",
    "ax.set_xlabel('Time [hr]')\n",
    "ax.grid()\n",
    "plt.show()"
   ]
  },
  {
   "cell_type": "code",
   "execution_count": null,
   "metadata": {},
   "outputs": [],
   "source": []
  }
 ],
 "metadata": {
  "kernelspec": {
   "display_name": "Python 3",
   "language": "python",
   "name": "python3"
  },
  "language_info": {
   "codemirror_mode": {
    "name": "ipython",
    "version": 3
   },
   "file_extension": ".py",
   "mimetype": "text/x-python",
   "name": "python",
   "nbconvert_exporter": "python",
   "pygments_lexer": "ipython3",
   "version": "3.7.1"
  }
 },
 "nbformat": 4,
 "nbformat_minor": 2
}
