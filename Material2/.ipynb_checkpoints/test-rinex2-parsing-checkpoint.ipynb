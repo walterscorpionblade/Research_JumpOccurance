{
 "cells": [
  {
   "cell_type": "code",
   "execution_count": 1,
   "metadata": {},
   "outputs": [
    {
     "name": "stdout",
     "output_type": "stream",
     "text": [
      "`rarfile` package not found.  \".rar\" file decompression will not be available\n"
     ]
    }
   ],
   "source": [
    "from datetime import datetime\n",
    "import os"
   ]
  },
  {
   "cell_type": "code",
   "execution_count": 44,
   "metadata": {},
   "outputs": [],
   "source": [
    "\n",
    "def format_filepath(filepath_expr, dt=None, params={}):\n",
    "    '''\n",
    "    ------------------------------------------------------------------------\n",
    "    `filepath_expr` -- a formattable string that defines the full filepath.\n",
    "        Intended to mirror filepath format on website / FTP site (should be\n",
    "        mirrored by folder structure of downloaded files).  See below about\n",
    "        placeholders.\n",
    "        \n",
    "    Placeholders:\n",
    "        Use the Python format syntax for adding placeholders to the path or\n",
    "        file expressions.  E.g. `/path/to/data/{type}/`.  These will be\n",
    "        replaced via `.format` with `params` as the argument.\n",
    "    \n",
    "    Reserved Placeholders:\n",
    "        For date/time-related expressions in the path or filename\n",
    "        expressions, use the placeholders used on IGS products page (e.g.\n",
    "        wwww, yyyy, ddd, etc).  When passing in a datetime into\n",
    "        `format_filepath(<filepath>, dt=datetime)`, this function computes\n",
    "        all the necessary placeholders.\n",
    "\n",
    "    Example:\n",
    "        IGS MGEX path expression: /pub/gps/products/mgex/{wwww}/\n",
    "        IGS MGEX sp3 file expression: com{wwww}{d}.sp3.Z\n",
    "        New MGEX SP3 file expression: COD0MGXFIN_{yyyy}{ddd}0000_01D_05M_ORB.SP3.gz\n",
    "    \n",
    "    Note on `path_expression` leading '/':\n",
    "        Strips leading forward slash in path expression to avoid issues\n",
    "        with `join`.  Path expression is always relative to some host URL\n",
    "        or local data directory.\n",
    "\n",
    "    Note for SP3:\n",
    "        For MGEX (basepath = '/pub/igs/products/mgex'), we can use the `com` files which include all available GNSS data\n",
    "        When using basepath pub/products/ ...:\n",
    "            for GPS use 'igs';\n",
    "            for GLONASS use 'igl' (after GPS week 1300) or 'igx' (before GPS week 1300)\n",
    "    '''\n",
    "    if dt is not None:\n",
    "        gpst = dt2gpst(dt)\n",
    "        week_no = gpst_week_number(gpst)\n",
    "        week_day = gpst_week_day(gpst)\n",
    "        yyyy = '{0:04}'.format(dt.year)                # year\n",
    "        yy = '{0:02}'.format(dt.year % 100)            # 2-digit year\n",
    "        mm = '{0:02}'.format(dt.month)                 # month\n",
    "        wwww = '{0:04}'.format(week_no)       # gps week no.\n",
    "        ddd = '{0:03}'.format(dt.timetuple().tm_yday)  # day of year\n",
    "        d = '{0:01}'.format(int(week_day))    # day of week\n",
    "        date_params = {'yyyy': yyyy, 'yy': yy, 'mm': mm, 'wwww': wwww, 'ddd': ddd, 'd': d}\n",
    "        params.update(date_params)\n",
    "    return filepath_expr.format(**params)\n",
    "\n"
   ]
  },
  {
   "cell_type": "code",
   "execution_count": 45,
   "metadata": {},
   "outputs": [],
   "source": [
    "from ftplib import FTP\n",
    "from os.path import basename, dirname, join, exists\n",
    "from os import makedirs\n",
    "\n",
    "def ftp_download(ftp_host, url_filepath, output_filepath):\n",
    "    '''Given URL to data on FTP site and a local output location, uses Python\n",
    "    FTP library's `retrbinary` function to download file.\n",
    "    '''\n",
    "    path = dirname(url_filepath)\n",
    "    filename = basename(url_filepath)\n",
    "    ftp = FTP(ftp_host)\n",
    "    ftp.login()\n",
    "    ftp.cwd(path)\n",
    "    with open(output_filepath, 'wb') as f:\n",
    "        ftp.retrbinary('RETR ' + filename, f.write)\n",
    "    ftp.quit()\n",
    "    return True"
   ]
  },
  {
   "cell_type": "code",
   "execution_count": null,
   "metadata": {},
   "outputs": [],
   "source": [
    "import zipfile\n",
    "import tarfile\n",
    "\n",
    "import gzip\n",
    "import shutil\n",
    "\n",
    "rarfile = None\n",
    "try:\n",
    "    import rarfile\n",
    "except ImportError:\n",
    "    msg = '`rarfile` package not found.  \".rar\" file decompression will not be available'\n",
    "    print(msg)\n",
    "    #raise ImportError(msg)\n",
    "\n",
    "from os.path import dirname, join, basename\n",
    "import subprocess\n",
    "\n",
    "\n",
    "def fix_bad_zip_file(zipFile):\n",
    "    '''See here:  https://stackoverflow.com/questions/3083235/unzipping-file-results-in-badzipfile-file-is-not-a-zip-file'''\n",
    "    with open(zipFile, 'rb') as f:\n",
    "        data = f.read()\n",
    "        pos = data.find(b'\\x50\\x4b\\x05\\x06') # End of central directory signatur\n",
    "        if (pos > 0):\n",
    "            self._log(\"Trancating file at location \" + str(pos + 22)+ \".\")\n",
    "            f.seek(pos + 22)   # size of 'ZIP end of central directory record'\n",
    "            f.truncate()  \n",
    "            f.close()  \n",
    "        else:\n",
    "            # raise error, file is truncated\n",
    "            raise Exception('Bad zip file: file is truncated')\n",
    "\n",
    "\n",
    "def decompress(filepath, output_filepath):\n",
    "    '''\n",
    "    ----------------------------------------------------------------------------\n",
    "    Given the path to file `filepath`, determines whether one of the modules\n",
    "    `zipfile`, `tarfile`, `gzip`, or (if available) `rarfile` is capable of \n",
    "    reading and decompressing the file.  Then, decompresses file and writes to\n",
    "    `output_filepath`.  Returns False if decompression fails.\n",
    "\n",
    "    Notes:  `gzip` module will only be used if filepath ends in '.gz'\n",
    "    '''\n",
    "    path = dirname(filepath)\n",
    "    if zipfile.is_zipfile(filepath):\n",
    "        with zipfile.ZipFile(filepath, 'r') as f:\n",
    "            res = f.extractall(path)\n",
    "        return join(path, basename(output_filepath)) == output_filepath\n",
    "    if tarfile.is_tarfile(filepath):\n",
    "        with tarfile.TarFile(filepath, 'r') as f:\n",
    "            f.extractall(path)\n",
    "        return join(path, basename(output_filepath)) == output_filepath\n",
    "    if rarfile is not None:\n",
    "        if rarfile.is_rarfile(filepath):\n",
    "            with rarfile.RarFile(filepath, 'r') as f:\n",
    "                f.extractall(path)\n",
    "            return join(path, basename(output_filepath)) == output_filepath\n",
    "    if filepath[-3:] == '.gz':\n",
    "        with gzip.open(filepath, 'rb') as f_in:\n",
    "            with open(output_filepath, 'wb') as f_out:\n",
    "                shutil.copyfileobj(f_in, f_out)\n",
    "        return output_filepath\n",
    "    if filepath[-2:] in ['.Z', '.z']:\n",
    "        # Unix compression; use uncompress\n",
    "        res = subprocess.call('uncompress -f ' + filepath, shell=True)\n",
    "        if res == 0:\n",
    "            return filepath[:-2] == output_filepath\n",
    "    # check for bad zip file\n",
    "    if filepath[-4:] in ['.zip']:\n",
    "        res = subprocess.call('unzip ' + filepath, shell=True)\n",
    "        if res == 0:\n",
    "            return filepath[:-4] == output_filepath\n",
    "    return False"
   ]
  },
  {
   "cell_type": "code",
   "execution_count": 2,
   "metadata": {},
   "outputs": [],
   "source": [
    "ftp_host = 'cddis.gsfc.nasa.gov'\n",
    "filepath_template = \\\n",
    "    'pub/gps/data/daily/{yyyy}/{ddd}/{yy}o/nist{ddd}0.{yy}o.Z'\n",
    "url_filepath = format_filepath(filepath_template, datetime(2019, 1, 20))"
   ]
  },
  {
   "cell_type": "code",
   "execution_count": 3,
   "metadata": {},
   "outputs": [],
   "source": [
    "filepath = os.path.join('/media/share/brianbw/data/rinex/', url_filepath)\n",
    "if not os.path.exists(os.path.dirname(filepath)):\n",
    "    os.makedirs(os.path.dirname(filepath))\n",
    "if not os.path.exists(filepath):\n",
    "    success = ftp_download(ftp_host, url_filepath, filepath)\n",
    "decompress(filepath, filepath[:-2])\n",
    "filepath = filepath[:-2]"
   ]
  },
  {
   "cell_type": "code",
   "execution_count": 4,
   "metadata": {},
   "outputs": [],
   "source": [
    "from rinex_utils.rinex2 import parse_RINEX2_obs_file"
   ]
  },
  {
   "cell_type": "code",
   "execution_count": 5,
   "metadata": {},
   "outputs": [],
   "source": [
    "header, observations = parse_RINEX2_obs_file(filepath)"
   ]
  },
  {
   "cell_type": "code",
   "execution_count": 7,
   "metadata": {},
   "outputs": [
    {
     "data": {
      "text/plain": [
       "dict_keys(['G05', 'G07', 'G08', 'G09', 'G11', 'G18', 'G23', 'G27', 'G28', 'G30', 'G13', 'G17', 'G01', 'G15', 'G19', 'G24', 'G06', 'G22', 'G03', 'G02', 'G12', 'G25', 'G29', 'G21', 'G26', 'G20', 'G16', 'G10', 'G32', 'G14', 'G31'])"
      ]
     },
     "execution_count": 7,
     "metadata": {},
     "output_type": "execute_result"
    }
   ],
   "source": [
    "satellites = observations['satellites']\n",
    "satellites.keys()"
   ]
  },
  {
   "cell_type": "code",
   "execution_count": 8,
   "metadata": {},
   "outputs": [],
   "source": [
    "sat = satellites['G01']"
   ]
  },
  {
   "cell_type": "code",
   "execution_count": 9,
   "metadata": {},
   "outputs": [
    {
     "data": {
      "text/plain": [
       "dict_keys(['L1', 'L2', 'index'])"
      ]
     },
     "execution_count": 9,
     "metadata": {},
     "output_type": "execute_result"
    }
   ],
   "source": [
    "sat.keys()"
   ]
  },
  {
   "cell_type": "code",
   "execution_count": 10,
   "metadata": {},
   "outputs": [],
   "source": [
    "sig = sat['L1']"
   ]
  },
  {
   "cell_type": "code",
   "execution_count": 11,
   "metadata": {},
   "outputs": [
    {
     "data": {
      "text/plain": [
       "dict_keys(['pseudorange', 'carrier', 'doppler', 'snr'])"
      ]
     },
     "execution_count": 11,
     "metadata": {},
     "output_type": "execute_result"
    }
   ],
   "source": [
    "sig.keys()"
   ]
  },
  {
   "cell_type": "code",
   "execution_count": 19,
   "metadata": {},
   "outputs": [
    {
     "data": {
      "text/plain": [
       "dict_keys(['channel_desc', 'carrier', 'cnr'])"
      ]
     },
     "execution_count": 19,
     "metadata": {},
     "output_type": "execute_result"
    }
   ],
   "source": [
    "sig['C'].keys()"
   ]
  },
  {
   "cell_type": "code",
   "execution_count": 12,
   "metadata": {},
   "outputs": [],
   "source": [
    "import matplotlib.pyplot as plt"
   ]
  },
  {
   "cell_type": "code",
   "execution_count": 31,
   "metadata": {},
   "outputs": [
    {
     "data": {
      "image/png": "[encoded data removed]",
      "text/plain": [
       "<Figure size 864x360 with 1 Axes>"
      ]
     },
     "metadata": {
      "needs_background": "light"
     },
     "output_type": "display_data"
    }
   ],
   "source": [
    "fig = plt.figure(figsize=(12, 5))\n",
    "ax = fig.add_subplot(111)\n",
    "\n",
    "time = observations['time'][sat['index']]\n",
    "time -= time[0]\n",
    "ax.scatter(time / 3600, sat['L1']['pseudorange'])\n",
    "# ax.scatter(time / 3600, sat['L2']['pseudorange'])\n",
    "ax.set_ylabel('Pseudorange [m]')\n",
    "ax.set_xlabel('Time [hr]')\n",
    "plt.show()"
   ]
  },
  {
   "cell_type": "code",
   "execution_count": 38,
   "metadata": {},
   "outputs": [],
   "source": [
    "from scipy.constants import c"
   ]
  },
  {
   "cell_type": "code",
   "execution_count": 41,
   "metadata": {},
   "outputs": [],
   "source": [
    "kappa = 40.308\n",
    "fL1 = 1.57542e9\n",
    "fL2 = 1.2276e9\n",
    "P1 = sat['L1']['pseudorange']\n",
    "P2 = sat['L2']['pseudorange']\n",
    "TEC = (P1 - P2) / (kappa * (1 / fL1**2 - 1 / fL2**2))\n",
    "\n",
    "L1 = sat['L1']['carrier'] * c / fL1\n",
    "L2 = sat['L2']['carrier'] * c / fL2\n",
    "TEC_rel = -(L1 - L2) / (kappa * (1 / fL1**2 - 1 / fL2**2))"
   ]
  },
  {
   "cell_type": "code",
   "execution_count": 43,
   "metadata": {},
   "outputs": [
    {
     "data": {
      "image/png": "[encoded data removed]",
      "text/plain": [
       "<Figure size 864x360 with 1 Axes>"
      ]
     },
     "metadata": {
      "needs_background": "light"
     },
     "output_type": "display_data"
    }
   ],
   "source": [
    "fig = plt.figure(figsize=(12, 5))\n",
    "ax = fig.add_subplot(111)\n",
    "\n",
    "time = observations['time'][sat['index']]\n",
    "time -= time[0]\n",
    "ax.scatter(time / 3600, TEC)\n",
    "ax.scatter(time / 3600, TEC_rel)\n",
    "ax.set_ylabel('TEC')\n",
    "ax.set_xlabel('Time [hr]')\n",
    "ax.grid()\n",
    "plt.show()"
   ]
  },
  {
   "cell_type": "markdown",
   "metadata": {},
   "source": [
    "$$\n",
    "f_\\text{L1} = 1.57542 \\times 10^9 \\text{Hz}  \\\\\n",
    "f_\\text{L2} = 1.2276 \\times 10^9 \\text{Hz}\n",
    "$$"
   ]
  },
  {
   "cell_type": "markdown",
   "metadata": {},
   "source": [
    "$$\n",
    "P_f = \\rho + I_f + \\epsilon_{P_f}\n",
    "$$"
   ]
  },
  {
   "cell_type": "markdown",
   "metadata": {},
   "source": [
    "$$\n",
    "\\kappa \\approx 40.308\n",
    "$$"
   ]
  },
  {
   "cell_type": "markdown",
   "metadata": {},
   "source": [
    "$$\n",
    "I_f = \\frac{\\kappa}{f^2} \\text{TEC}\n",
    "$$"
   ]
  },
  {
   "cell_type": "markdown",
   "metadata": {},
   "source": [
    "$$\n",
    "P_\\text{L1} = \\rho + I_\\text{L1} + \\epsilon_{P_\\text{L1}}\n",
    "\\\\\n",
    "P_\\text{L2} = \\rho + I_\\text{L2} + \\epsilon_{P_\\text{L2}}\n",
    "$$"
   ]
  },
  {
   "cell_type": "markdown",
   "metadata": {},
   "source": [
    "$$\n",
    "\\begin{align*}\n",
    "P_\\text{L1} - P_\\text{L2}\n",
    "& = I_\\text{L1} + \\epsilon_{P_\\text{L1}} - I_\\text{L2} - \\epsilon_{P_\\text{L2}}\n",
    "\\\\\n",
    "& = I_\\text{L1}  - I_\\text{L2} + \\epsilon_{P_{\\text{L1},\\text{L2}}}\n",
    "\\\\\n",
    "& = \\frac{\\kappa}{f_\\text{L1}^2} \\text{TEC} - \\frac{\\kappa}{f_\\text{L2}^2}\\text{TEC} + \\epsilon_{P_{\\text{L1},\\text{L2}}}\n",
    "\\\\\n",
    "& = \\kappa \\frac{\\left(f_\\text{L2}^2 - f_\\text{L1}^2 \\right)}{f_\\text{L1}^2f_\\text{L2}^2}\n",
    "\\text{TEC} + \\epsilon_{P_{\\text{L1},\\text{L2}}}\n",
    "\\\\\n",
    "& = \\kappa \\left(\\frac{1}{f_\\text{L1}^2} - \\frac{1}{f_\\text{L2}^2} \\right) \\text{TEC} + \\epsilon_{P_{\\text{L1},\\text{L2}}}\n",
    "\\\\\n",
    "& \\approx \\kappa \\left(\\frac{1}{f_\\text{L1}^2} - \\frac{1}{f_\\text{L2}^2} \\right) \\text{TEC}\n",
    "\\end{align*}\n",
    "$$"
   ]
  },
  {
   "cell_type": "markdown",
   "metadata": {},
   "source": [
    "$$\n",
    "\\Rightarrow \\text{TEC} = \\frac{P_\\text{L1} - P_\\text{L2}}{\\kappa \\left(\\frac{1}{f_\\text{L1}^2} - \\frac{1}{f_\\text{L2}^2} \\right) }\n",
    "$$"
   ]
  },
  {
   "cell_type": "markdown",
   "metadata": {},
   "source": [
    "$$\n",
    "L_\\text{L1} = \\rho - I_\\text{L1} + \\lambda_\\text{L1} N_\\text{L1} + \\epsilon_{P_\\text{L1}}\n",
    "\\\\\n",
    "L_\\text{L2} = \\rho - I_\\text{L2} + \\lambda_\\text{L2} N_\\text{L2} + \\epsilon_{P_\\text{L2}}\n",
    "$$"
   ]
  },
  {
   "cell_type": "markdown",
   "metadata": {},
   "source": [
    "$$\n",
    "\\begin{align*}\n",
    "L_\\text{L1} - L_\\text{L2}\n",
    "& = -I_\\text{L1} + \\epsilon_{P_\\text{L1}} + I_\\text{L2} - \\epsilon_{L_\\text{L2}}\n",
    "\\\\\n",
    "& = -I_\\text{L1}  + I_\\text{L2} + \\epsilon_{L_{\\text{L1},\\text{L2}}}\n",
    "\\\\\n",
    "& = \\kappa \\left(-\\frac{1}{f_\\text{L1}^2} + \\frac{1}{f_\\text{L2}^2} \\right) \\text{TEC} + \\epsilon_{L_{\\text{L1},\\text{L2}}}\n",
    "\\\\\n",
    "& \\approx \\kappa \\left(-\\frac{1}{f_\\text{L1}^2} + \\frac{1}{f_\\text{L2}^2} \\right) \\text{TEC}\n",
    "\\end{align*}\n",
    "$$"
   ]
  },
  {
   "cell_type": "markdown",
   "metadata": {},
   "source": [
    "$$\n",
    "\\Rightarrow \\text{TEC} = -\\frac{L_\\text{L1} - L_\\text{L2}}{\\kappa \\left(\\frac{1}{f_\\text{L1}^2} - \\frac{1}{f_\\text{L2}^2} \\right) }\n",
    "$$"
   ]
  },
  {
   "cell_type": "markdown",
   "metadata": {},
   "source": [
    "Ionosphere total electron content (TEC) is a measure of the "
   ]
  },
  {
   "cell_type": "code",
   "execution_count": null,
   "metadata": {},
   "outputs": [],
   "source": []
  }
 ],
 "metadata": {
  "kernelspec": {
   "display_name": "Python 3",
   "language": "python",
   "name": "python3"
  },
  "language_info": {
   "codemirror_mode": {
    "name": "ipython",
    "version": 3
   },
   "file_extension": ".py",
   "mimetype": "text/x-python",
   "name": "python",
   "nbconvert_exporter": "python",
   "pygments_lexer": "ipython3",
   "version": "3.6.5"
  }
 },
 "nbformat": 4,
 "nbformat_minor": 2
}
