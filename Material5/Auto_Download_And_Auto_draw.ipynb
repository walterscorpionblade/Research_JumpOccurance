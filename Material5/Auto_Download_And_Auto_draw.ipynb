{
 "cells": [
  {
   "cell_type": "code",
   "execution_count": 24,
   "metadata": {},
   "outputs": [],
   "source": [
    "from datetime import datetime\n",
    "import os\n",
    "from time_utils.gpst import dt2gpst, gpst2dt, gpst_week_number, gpst_week_day\n",
    "\n",
    "import zipfile\n",
    "import tarfile\n",
    "import gzip\n",
    "import shutil\n",
    "\n",
    "from ftplib import FTP\n",
    "from os.path import basename, dirname, join, exists\n",
    "from os import makedirs\n",
    "\n",
    "import matplotlib.pyplot as plt\n",
    "\n",
    "from ftplib import FTP\n",
    "from os.path import basename, dirname, join, exists\n",
    "from os import makedirs"
   ]
  },
  {
   "cell_type": "code",
   "execution_count": 25,
   "metadata": {},
   "outputs": [
    {
     "name": "stdout",
     "output_type": "stream",
     "text": [
      "`rarfile` package not found.  \".rar\" file decompression will not be available\n"
     ]
    }
   ],
   "source": [
    "import zipfile\n",
    "import tarfile\n",
    "\n",
    "import gzip\n",
    "import shutil\n",
    "\n",
    "rarfile = None\n",
    "try:\n",
    "    import rarfile\n",
    "except ImportError:\n",
    "    msg = '`rarfile` package not found.  \".rar\" file decompression will not be available'\n",
    "    print(msg)\n",
    "    #raise ImportError(msg)\n",
    "\n",
    "from os.path import dirname, join, basename\n",
    "import subprocess"
   ]
  },
  {
   "cell_type": "code",
   "execution_count": 26,
   "metadata": {},
   "outputs": [
    {
     "name": "stdout",
     "output_type": "stream",
     "text": [
      "`rarfile` package not found.  \".rar\" file decompression will not be available\n"
     ]
    }
   ],
   "source": [
    "import zipfile\n",
    "import tarfile\n",
    "\n",
    "import gzip\n",
    "import shutil\n",
    "\n",
    "rarfile = None\n",
    "try:\n",
    "    import rarfile\n",
    "except ImportError:\n",
    "    msg = '`rarfile` package not found.  \".rar\" file decompression will not be available'\n",
    "    print(msg)\n",
    "    #raise ImportError(msg)\n",
    "\n",
    "from os.path import dirname, join, basename\n",
    "import subprocess"
   ]
  },
  {
   "cell_type": "code",
   "execution_count": 27,
   "metadata": {},
   "outputs": [],
   "source": [
    "from RINEX2Helper import format_filepath, ftp_download, fix_bad_zip_file, decompress"
   ]
  },
  {
   "cell_type": "code",
   "execution_count": 28,
   "metadata": {},
   "outputs": [],
   "source": [
    "from rinex2 import parse_RINEX2_obs_file"
   ]
  },
  {
   "cell_type": "code",
   "execution_count": 19,
   "metadata": {},
   "outputs": [
    {
     "name": "stdout",
     "output_type": "stream",
     "text": [
      "/Users/liuzijun 1/Projects/gnss-research/data/rinex/pub/gps/data/daily/2017/233/17o/nist2330.17o\n",
      "/Users/liuzijun 1/Projects/gnss-research/data/rinex/pub/gps/data/daily/2017/234/17o/nist2340.17o\n",
      "/Users/liuzijun 1/Projects/gnss-research/data/rinex/pub/gps/data/daily/2017/235/17o/nist2350.17o\n",
      "/Users/liuzijun 1/Projects/gnss-research/data/rinex/pub/gps/data/daily/2017/236/17o/nist2360.17o\n",
      "/Users/liuzijun 1/Projects/gnss-research/data/rinex/pub/gps/data/daily/2017/237/17o/nist2370.17o\n",
      "/Users/liuzijun 1/Projects/gnss-research/data/rinex/pub/gps/data/daily/2017/238/17o/nist2380.17o\n",
      "/Users/liuzijun 1/Projects/gnss-research/data/rinex/pub/gps/data/daily/2017/239/17o/nist2390.17o\n"
     ]
    }
   ],
   "source": [
    "for day in range(21, 28):\n",
    "    ftp_host = 'cddis.gsfc.nasa.gov'\n",
    "    filepath_template = \\\n",
    "        'pub/gps/data/daily/{yyyy}/{ddd}/{yy}o/nist{ddd}0.{yy}o.Z'\n",
    "    url_filepath = format_filepath(filepath_template, datetime(2017, 8, day))\n",
    "    filepath = os.path.join('/Users/liuzijun 1/Projects/gnss-research/data/rinex/', url_filepath)\n",
    "    if not os.path.exists(os.path.dirname(filepath)):\n",
    "        os.makedirs(os.path.dirname(filepath))\n",
    "    if not os.path.exists(filepath):\n",
    "        success = ftp_download(ftp_host, url_filepath, filepath)\n",
    "    subprocess.call('uncompress -f ' + filepath.replace(' ', '\\ '), shell=True)\n",
    "    filepath = filepath[:-2]\n",
    "    print (filepath)"
   ]
  },
  {
   "cell_type": "code",
   "execution_count": 29,
   "metadata": {},
   "outputs": [],
   "source": [
    "def download_and_decompress(station_id, dt, overwrite=False):\n",
    "    ftp_host = 'cddis.gsfc.nasa.gov'\n",
    "    filepath_template = 'pub/gps/data/daily/{yyyy}/{ddd}/{yy}o/{station_id}{ddd}0.{yy}o.Z'\n",
    "    rinex_dir = '/Users/liuzijun 1/Projects/gnss-research/data/rinex/'\n",
    "    url_filepath = format_filepath(filepath_template, dt, params={'station_id': station_id})\n",
    "    filepath = os.path.join(rinex_dir, url_filepath)\n",
    "    if not os.path.exists(os.path.dirname(filepath)):\n",
    "        os.makedirs(os.path.dirname(filepath))\n",
    "    if overwrite or (not os.path.exists(filepath) and not os.path.exists(filepath[:-2])):\n",
    "        success = ftp_download(ftp_host, url_filepath, filepath)\n",
    "    if overwrite or (os.path.exists(filepath) and not os.path.exists(filepath[:-2])):\n",
    "        subprocess.call('uncompress -f ' + filepath.replace(' ', '\\ '), shell=True)\n",
    "    filepath = filepath[:-2]\n",
    "    return filepath "
   ]
  },
  {
   "cell_type": "code",
   "execution_count": 30,
   "metadata": {},
   "outputs": [],
   "source": [
    "def plot_and_save(time, satellite, plot_filepath):\n",
    "    index = satellite['index']\n",
    "    \n",
    "    c = 299792458\n",
    "    kappa = 40.308\n",
    "    fL1 = 1.57542e9\n",
    "    fL2 = 1.2276e9\n",
    "    \n",
    "    P1 = satellite['L1']['pseudorange']\n",
    "    P2 = satellite['L2']['pseudorange']\n",
    "    TEC = (P1 - P2) / (kappa * (1 / fL1**2 - 1 / fL2**2))\n",
    "    \n",
    "    L1 = satellite['L1']['carrier'] * c / fL1\n",
    "    L2 = satellite['L2']['carrier'] * c / fL2\n",
    "    TEC_rel = -(L1 - L2) / (kappa * (1 / fL1**2 - 1 / fL2**2))\n",
    "    \n",
    "    \n",
    "    fig = plt.figure(figsize=(12, 7))\n",
    "    ax = fig.add_subplot(111)\n",
    "    t = time[index] - time[0]\n",
    "    ax.scatter(t / 3600, TEC)\n",
    "    ax.scatter(t / 3600, TEC_rel)\n",
    "    ax.set_ylabel('[TECu]')\n",
    "    ax.set_xlabel('Time [hr]')\n",
    "\n",
    "    plt.savefig(plot_filepath)\n",
    "    plt.close()"
   ]
  },
  {
   "cell_type": "code",
   "execution_count": 31,
   "metadata": {},
   "outputs": [
    {
     "name": "stdout",
     "output_type": "stream",
     "text": [
      "operands could not be broadcast together with shapes (966,) (965,) \n",
      "operands could not be broadcast together with shapes (947,) (946,) \n",
      "operands could not be broadcast together with shapes (889,) (888,) \n",
      "operands could not be broadcast together with shapes (967,) (966,) \n",
      "operands could not be broadcast together with shapes (838,) (837,) \n",
      "operands could not be broadcast together with shapes (966,) (965,) \n"
     ]
    }
   ],
   "source": [
    "for day in range(21, 28):\n",
    "    dt = datetime(2017, 8, day)\n",
    "    station_id = 'nist'\n",
    "    filepath = download_and_decompress(station_id, dt)\n",
    "    header, observations = parse_RINEX2_obs_file(filepath)\n",
    "    satellites = observations['satellites']\n",
    "    time = observations['time']\n",
    "    sat_ids = satellites.keys()\n",
    "    for sat_id in sat_ids:\n",
    "        plot_filename = '{0:04}{1:02}{2:02}_{3}_TEC-plot.png'.format(dt.year, dt.month, dt.day, sat_id)\n",
    "        plot_dir = '/Users/liuzijun 1/Projects/gnss-research/plots'\n",
    "        if not os.path.exists(plot_dir):\n",
    "            os.makedirs(plot_dir)\n",
    "        plot_filepath = os.path.join(plot_dir, plot_filename)\n",
    "#         print(plot_filepath)\n",
    "        try:\n",
    "            plot_and_save(time, satellites[sat_id], plot_filepath)\n",
    "        except Exception as e:\n",
    "            print(e)"
   ]
  },
  {
   "cell_type": "code",
   "execution_count": null,
   "metadata": {},
   "outputs": [],
   "source": []
  }
 ],
 "metadata": {
  "kernelspec": {
   "display_name": "Python 3",
   "language": "python",
   "name": "python3"
  },
  "language_info": {
   "codemirror_mode": {
    "name": "ipython",
    "version": 3
   },
   "file_extension": ".py",
   "mimetype": "text/x-python",
   "name": "python",
   "nbconvert_exporter": "python",
   "pygments_lexer": "ipython3",
   "version": "3.7.1"
  }
 },
 "nbformat": 4,
 "nbformat_minor": 2
}
